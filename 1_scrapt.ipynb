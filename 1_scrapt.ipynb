{
 "cells": [
  {
   "cell_type": "code",
   "execution_count": 68,
   "metadata": {},
   "outputs": [],
   "source": [
    "import requests\n",
    "from bs4 import BeautifulSoup\n",
    "import pandas as pd\n",
    "from tqdm import tqdm\n",
    "import os\n",
    "import re\n",
    "import winsound\n",
    "import numpy as np\n",
    "import random\n",
    "import time\n",
    "import seaborn as sns\n",
    "import matplotlib.pyplot as plt\n",
    "from tools import *\n",
    "headers = {\n",
    "\t\t'User-Agent': 'Mozilla/5.0 (X11; CrOS x86_64 8172.45.0) AppleWebKit/537.36 (KHTML, like Gecko) Chrome/51.0.2704.64 Safari/537.36',\n",
    "\t\t'Accept-Language': 'en-US, en;q=0.5'\n",
    "\t}\n",
    "\n",
    "\n",
    "def path(path): \n",
    "\tvar1, full_file_name = os.path.split(path)\n",
    "\tfile_name, extension = os.path.splitext(full_file_name)\n",
    "\treturn var1+'/', file_name, extension"
   ]
  },
  {
   "cell_type": "markdown",
   "metadata": {},
   "source": [
    "# 1. Data scrapping\n",
    "## 1.1. Scrapping les données des villes\n",
    "Scrapper les données sur des villes et certains indicateurs propores à eux et sauvagrder dans un fichier csv pour une futur utilisation. La source: Numbeo\n",
    "\n",
    "Nous commonçons par faire un scrapping des variables pour les villes."
   ]
  },
  {
   "cell_type": "code",
   "execution_count": 69,
   "metadata": {},
   "outputs": [],
   "source": [
    "def scrap_cities_data(displaydf= False):\n",
    "\t# Fonction pour obtenir les valeurs des itemId depuis la page\n",
    "\tdef get_item_ids(url):\n",
    "\t\tresponse = requests.get(url)\n",
    "\t\tsoup = BeautifulSoup(response.content, \"html.parser\")\n",
    "\t\tselect_box = soup.find(\"select\", id=\"itemId\")\n",
    "\t\titem_ids = [option[\"value\"] for option in select_box.find_all(\"option\")]\n",
    "\t\treturn item_ids\n",
    "\n",
    "\t# Fonction pour générer les URLs pour chaque itemId\n",
    "\tdef generate_urls(base_url, item_ids):\n",
    "\t\turls = [f\"{base_url}&itemId={item_id}\" for item_id in item_ids]\n",
    "\t\treturn urls\n",
    "\n",
    "\t# Fonction pour scraper les données depuis une URL\n",
    "\tdef scrape_data(url):\n",
    "\t\tresponse = requests.get(url)\n",
    "\t\tsoup = BeautifulSoup(response.content, \"html.parser\")\n",
    "\t\ttable = soup.find(\"table\", id=\"t2\")\n",
    "\t\theaders = [th.text.strip() for th in table.find_all(\"th\")]\n",
    "\t\trows = []\n",
    "\t\tfor row in table.find_all(\"tr\"):\n",
    "\t\t\trow_data = [td.text.strip() for td in row.find_all(\"td\")]\n",
    "\t\t\tif row_data and len(row_data) == len(headers):\n",
    "\t\t\t\trows.append(row_data[1:])\n",
    "\t\tdf = pd.DataFrame(rows, columns=headers[1:])    \n",
    "\t\t# Split 'City' column if it exists and has the expected format\n",
    "\t\tif 'City' in df.columns:\n",
    "\t\t\tdf['City'], df['Country'] = zip(*df['City'].apply(lambda x: x.rsplit(', ', 1) if x.count(',') == 1 else (x.rsplit(', ', 2)[0], x.rsplit(', ', 2)[2]) if ',' in x else (x, None)))\n",
    "\t\t\tdf['City'] = df['City'].str.strip()\n",
    "\t\t\tdf['Country'] = df['Country'].str.strip()\n",
    "\t\treturn df\n",
    "\n",
    "\n",
    "\tbase_url = \"https://www.numbeo.com/cost-of-living/prices_by_city.jsp?region=150&displayCurrency=EUR\"\n",
    "\titem_ids = get_item_ids(\"https://www.numbeo.com/cost-of-living/prices_by_city.jsp\")\n",
    "\turls = generate_urls(base_url, item_ids)\n",
    "\n",
    "\tmerged_df = pd.DataFrame()\n",
    "\tfor url in tqdm(urls):\n",
    "\t\tdf = scrape_data(url)\n",
    "\t\tif merged_df.empty:\n",
    "\t\t\tmerged_df = df\n",
    "\t\telse:\n",
    "\t\t\tmerged_df = pd.merge(merged_df, df, on=['City', 'Country'], how='outer', suffixes=('_x', '_y'), validate=\"one_to_one\")\n",
    "\tdf.set_index(['City', 'Country'])\n",
    "\tdf= merged_df.loc[:,~merged_df.columns.duplicated()]\n",
    "\tif displaydf:\n",
    "\t\tdisplay(df)\n",
    "\treturn df\n",
    "\t\n"
   ]
  },
  {
   "cell_type": "markdown",
   "metadata": {},
   "source": [
    "Nous rajoutons ensuite le continent et la region et leur identifiants sur Numbeo (utile pour pourvoir faire du scrapping par region, histoire de ne pas faire un code qui prend 20h pour s'éxcuter)."
   ]
  },
  {
   "cell_type": "code",
   "execution_count": 70,
   "metadata": {},
   "outputs": [],
   "source": [
    "import requests\n",
    "from bs4 import BeautifulSoup\n",
    "import pandas as pd\n",
    "from tqdm import tqdm\n",
    "\n",
    "def scrap_regions(displaydf=False):    \n",
    "\turl = \"https://www.numbeo.com/cost-of-living/prices_by_city.jsp?displayCurrency=USD&itemId=60\"\n",
    "\tresponse = requests.get(url)\n",
    "\tsoup = BeautifulSoup(response.text, 'html.parser')\n",
    "\tregion_links = soup.find('div', class_='select_region_links')\n",
    "\tsub_regions = []\n",
    "\n",
    "\tfor link in tqdm(region_links.find_all('a')):\n",
    "\t\tregion_name = link.text.strip()\n",
    "\t\tregion_url = link['href']\n",
    "\t\t\n",
    "\t\tregion_number = region_url.split('=')[-1]\n",
    "\t\tsub_region_number = region_url.split('=')[-2].split('&')[-1]\n",
    "\n",
    "\t\tregion_response = requests.get(region_url)\n",
    "\t\tregion_soup = BeautifulSoup(region_response.text, 'html.parser')\n",
    "\t\tsub_region_links = region_soup.find('div', class_='select_region_links')\n",
    "\t\t\n",
    "\t\tif sub_region_links:\n",
    "\t\t\tfor sub_link in sub_region_links.find_all('a'):\n",
    "\t\t\t\tsub_region_name = sub_link.text.strip()\n",
    "\t\t\t\tsub_region_url = sub_link['href']\n",
    "\t\t\t\t\n",
    "\t\t\t\tsub_region_number = sub_region_url.split('=')[-1]\n",
    "\t\t\t\t\n",
    "\t\t\t\tsub_region_response = requests.get(sub_region_url)\n",
    "\t\t\t\tsub_region_soup = BeautifulSoup(sub_region_response.text, 'html.parser')\n",
    "\t\t\t\ttable = sub_region_soup.find('table', id='t2')\n",
    "\t\t\t\tif table:\n",
    "\t\t\t\t\tfor row in table.find_all('tr')[1:]: \n",
    "\t\t\t\t\t\tcells = row.find_all('td')\n",
    "\t\t\t\t\t\tcity_state_country = cells[1].text.strip()\n",
    "\t\t\t\t\t\tcity, *_, country = city_state_country.split(\", \")\n",
    "\t\t\t\t\t\tsub_regions.append((city, country, sub_region_name, region_name, sub_region_number, region_number))\n",
    "\t\telse:\n",
    "\t\t\ttable = region_soup.find('table', id='t2')\n",
    "\t\t\tif table:\n",
    "\t\t\t\tfor row in table.find_all('tr')[1:]: \n",
    "\t\t\t\t\tcells = row.find_all('td')\n",
    "\t\t\t\t\tcity_state_country = cells[1].text.strip()\n",
    "\t\t\t\t\tcity, *_, country = city_state_country.split(\", \")\n",
    "\t\t\t\t\tsub_regions.append((city, country, region_name, region_name, region_number, region_number))\n",
    "\t\t\t\t\t\n",
    "\tdf = pd.DataFrame(sub_regions, columns=['City', 'Country', 'Region', 'Continent', 'Region Number', 'Continent Number'])\n",
    "\tdf = df.loc[:, ~df.columns.duplicated()] \n",
    "\t#df.set_index(['City', 'Country'], inplace=True) \n",
    "\tif displaydf:\n",
    "\t\tdisplay(df)\n",
    "\treturn df \n"
   ]
  },
  {
   "cell_type": "markdown",
   "metadata": {},
   "source": [
    "Scrap les population des pays"
   ]
  },
  {
   "cell_type": "code",
   "execution_count": 73,
   "metadata": {},
   "outputs": [],
   "source": [
    "def scrap_population():\n",
    "\turl =\"https://www.worldometers.info/world-population/population-by-country/\"\n",
    "\tresponse = requests.get(url, headers=headers)\n",
    "\tsoup = BeautifulSoup(response.text, 'html.parser')\n",
    "\n",
    "\ttable = soup.find('table', {'id': 'example2'})\n",
    "\tbody = table.find('tbody')\n",
    "\ttrs = body.find_all('tr')\n",
    "\n",
    "\tdf = pd.DataFrame(np.random.rand(10, 11))\n",
    "\n",
    "\t# Name the columns\n",
    "\tdf.columns = ['Country', 'Population', 'Yearly Change', 'net_change', 'density', 'land_area', 'migrants', 'fert_rate',\n",
    "\t'med_age', 'urban_pop', 'world_share']\n",
    "\n",
    "\tfor i, tr in enumerate(trs):\n",
    "\t\ttds = tr.find_all('td')\n",
    "\t\tcountry = tds[1].text\n",
    "\t\tpopulation = tds[2].text\n",
    "\t\tyearly_change = tds[3].text\n",
    "\t\tnet_change = tds[4].text\n",
    "\t\tdensity = tds[5].text\n",
    "\t\tland_area = tds[6].text\n",
    "\t\tmigrants = tds[7].text\n",
    "\t\tfert_rate = tds[8].text\n",
    "\t\tmed_age = tds[9].text\n",
    "\t\turban_pop = tds[10].text\n",
    "\t\tworld_share = tds[11].text\n",
    "\t\tdf.loc[i] = [country, population, yearly_change, net_change, density, land_area, migrants, fert_rate, med_age, urban_pop, world_share]\n",
    "\n",
    "\tdf.to_csv('world_population.csv', index=False)\n",
    "\treturn df"
   ]
  },
  {
   "cell_type": "code",
   "execution_count": 79,
   "metadata": {},
   "outputs": [
    {
     "data": {
      "text/html": [
       "<div>\n",
       "<style scoped>\n",
       "    .dataframe tbody tr th:only-of-type {\n",
       "        vertical-align: middle;\n",
       "    }\n",
       "\n",
       "    .dataframe tbody tr th {\n",
       "        vertical-align: top;\n",
       "    }\n",
       "\n",
       "    .dataframe thead th {\n",
       "        text-align: right;\n",
       "    }\n",
       "</style>\n",
       "<table border=\"1\" class=\"dataframe\">\n",
       "  <thead>\n",
       "    <tr style=\"text-align: right;\">\n",
       "      <th></th>\n",
       "      <th>Country</th>\n",
       "      <th>Population</th>\n",
       "      <th>Yearly Change</th>\n",
       "      <th>net_change</th>\n",
       "      <th>density</th>\n",
       "      <th>land_area</th>\n",
       "      <th>migrants</th>\n",
       "      <th>fert_rate</th>\n",
       "      <th>med_age</th>\n",
       "      <th>urban_pop</th>\n",
       "      <th>world_share</th>\n",
       "    </tr>\n",
       "  </thead>\n",
       "  <tbody>\n",
       "    <tr>\n",
       "      <th>0</th>\n",
       "      <td>India</td>\n",
       "      <td>1,428,627,663</td>\n",
       "      <td>0.81 %</td>\n",
       "      <td>11,454,490</td>\n",
       "      <td>481</td>\n",
       "      <td>2,973,190</td>\n",
       "      <td>-486,136</td>\n",
       "      <td>2.0</td>\n",
       "      <td>28.0</td>\n",
       "      <td>36 %</td>\n",
       "      <td>17.76 %</td>\n",
       "    </tr>\n",
       "    <tr>\n",
       "      <th>1</th>\n",
       "      <td>China</td>\n",
       "      <td>1,425,671,352</td>\n",
       "      <td>-0.02 %</td>\n",
       "      <td>-215,985</td>\n",
       "      <td>152</td>\n",
       "      <td>9,388,211</td>\n",
       "      <td>-310,220</td>\n",
       "      <td>1.2</td>\n",
       "      <td>39.0</td>\n",
       "      <td>65 %</td>\n",
       "      <td>17.72 %</td>\n",
       "    </tr>\n",
       "  </tbody>\n",
       "</table>\n",
       "</div>"
      ],
      "text/plain": [
       "  Country     Population Yearly Change  net_change density  land_area  \\\n",
       "0   India  1,428,627,663        0.81 %  11,454,490     481  2,973,190   \n",
       "1   China  1,425,671,352       -0.02 %    -215,985     152  9,388,211   \n",
       "\n",
       "   migrants  fert_rate  med_age urban_pop world_share  \n",
       "0  -486,136        2.0     28.0      36 %     17.76 %  \n",
       "1  -310,220        1.2     39.0      65 %     17.72 %  "
      ]
     },
     "metadata": {},
     "output_type": "display_data"
    }
   ],
   "source": [
    "file_pop = \"data/world_population.csv\"\n",
    "pop_df = pd.DataFrame()\n",
    "if os.path.exists(file_pop):\n",
    "\tif path(file_pop)[2]==\".csv\":\n",
    "\t\tpop_df = pd.read_csv(file_pop)\n",
    "\telif path(file_pop)[2]==\".xlsx\":\n",
    "\t\tpop_df = pd.read_excel(file_pop)\n",
    "\tif pop_df.empty:\n",
    "\t\tpop_df = scrap_population()\n",
    "else:\n",
    "\tpop_df = scrap_population()\n",
    "\n",
    "display(pop_df.head(2))"
   ]
  },
  {
   "cell_type": "markdown",
   "metadata": {},
   "source": [
    "Faisons une jointure et sauvgardons les données liées aux villes. Ce sont des variables enviromentales."
   ]
  },
  {
   "cell_type": "code",
   "execution_count": 80,
   "metadata": {},
   "outputs": [],
   "source": [
    "#TODO creer les répartoires\n",
    "\n",
    "def scrap_cities(path, file, ext='.csv'):\n",
    "\tregions = scrap_regions()\n",
    "\tcities = scrap_cities_data()\n",
    "\tdf = pd.read_csv('data/world_population.csv')\n",
    "\tmerged = regions.merge(cities, on=['City', 'Country'], how=\"inner\")\n",
    "\tmerged = merged.merge(df, on=['Country'], how=\"inner\")\n",
    "\ttourism = pd.read_csv('data/tourism.csv')\n",
    "\tmerged = merged.merge(tourism, on=['Country'], how=\"inner\")\n",
    "\tmatch ext:\n",
    "\t\tcase '.csv': merged.to_csv(path+file+ext, index=False)\n",
    "\t\tcase '.xlsx': merged.to_excel(path+file+ext, index=False)\n",
    "\treturn merged"
   ]
  },
  {
   "cell_type": "markdown",
   "metadata": {},
   "source": [
    "Excutons notre code et affichons ce que ça donne. Voir le fichier cities.csv créé dans le dossier data."
   ]
  },
  {
   "cell_type": "code",
   "execution_count": 81,
   "metadata": {},
   "outputs": [
    {
     "name": "stderr",
     "output_type": "stream",
     "text": [
      "100%|██████████| 5/5 [00:30<00:00,  6.13s/it]\n",
      "100%|██████████| 55/55 [01:25<00:00,  1.55s/it]\n"
     ]
    },
    {
     "data": {
      "text/html": [
       "<div>\n",
       "<style scoped>\n",
       "    .dataframe tbody tr th:only-of-type {\n",
       "        vertical-align: middle;\n",
       "    }\n",
       "\n",
       "    .dataframe tbody tr th {\n",
       "        vertical-align: top;\n",
       "    }\n",
       "\n",
       "    .dataframe thead th {\n",
       "        text-align: right;\n",
       "    }\n",
       "</style>\n",
       "<table border=\"1\" class=\"dataframe\">\n",
       "  <thead>\n",
       "    <tr style=\"text-align: right;\">\n",
       "      <th></th>\n",
       "      <th>City</th>\n",
       "      <th>Country</th>\n",
       "      <th>Region</th>\n",
       "      <th>Continent</th>\n",
       "      <th>Region Number</th>\n",
       "      <th>Continent Number</th>\n",
       "      <th>Price per Square Meter to Buy Apartment Outside of Centre</th>\n",
       "      <th>Price per Square Meter to Buy Apartment in City Centre</th>\n",
       "      <th>International Primary School, Yearly for 1 Child</th>\n",
       "      <th>Preschool (or Kindergarten), Full Day, Private, Monthly for 1 Child</th>\n",
       "      <th>...</th>\n",
       "      <th>net_change</th>\n",
       "      <th>density</th>\n",
       "      <th>land_area</th>\n",
       "      <th>migrants</th>\n",
       "      <th>fert_rate</th>\n",
       "      <th>med_age</th>\n",
       "      <th>urban_pop</th>\n",
       "      <th>world_share</th>\n",
       "      <th>Tourism</th>\n",
       "      <th>Tourism_year</th>\n",
       "    </tr>\n",
       "  </thead>\n",
       "  <tbody>\n",
       "    <tr>\n",
       "      <th>0</th>\n",
       "      <td>Harare</td>\n",
       "      <td>Zimbabwe</td>\n",
       "      <td>Eastern Africa</td>\n",
       "      <td>Africa</td>\n",
       "      <td>014</td>\n",
       "      <td>002</td>\n",
       "      <td>NaN</td>\n",
       "      <td>1290.35</td>\n",
       "      <td>6802.31</td>\n",
       "      <td>261.54</td>\n",
       "      <td>...</td>\n",
       "      <td>344,872</td>\n",
       "      <td>43</td>\n",
       "      <td>386,850</td>\n",
       "      <td>-9,999</td>\n",
       "      <td>3.4</td>\n",
       "      <td>18.0</td>\n",
       "      <td>37 %</td>\n",
       "      <td>0.21 %</td>\n",
       "      <td>639000</td>\n",
       "      <td>2020</td>\n",
       "    </tr>\n",
       "    <tr>\n",
       "      <th>1</th>\n",
       "      <td>Dar es Salaam</td>\n",
       "      <td>Tanzania</td>\n",
       "      <td>Eastern Africa</td>\n",
       "      <td>Africa</td>\n",
       "      <td>014</td>\n",
       "      <td>002</td>\n",
       "      <td>NaN</td>\n",
       "      <td>NaN</td>\n",
       "      <td>NaN</td>\n",
       "      <td>NaN</td>\n",
       "      <td>...</td>\n",
       "      <td>1,940,358</td>\n",
       "      <td>76</td>\n",
       "      <td>885,800</td>\n",
       "      <td>-39,997</td>\n",
       "      <td>4.6</td>\n",
       "      <td>17.0</td>\n",
       "      <td>38 %</td>\n",
       "      <td>0.84 %</td>\n",
       "      <td>1527000</td>\n",
       "      <td>2019</td>\n",
       "    </tr>\n",
       "    <tr>\n",
       "      <th>2</th>\n",
       "      <td>Addis Ababa</td>\n",
       "      <td>Ethiopia</td>\n",
       "      <td>Eastern Africa</td>\n",
       "      <td>Africa</td>\n",
       "      <td>014</td>\n",
       "      <td>002</td>\n",
       "      <td>1487.80</td>\n",
       "      <td>2078.02</td>\n",
       "      <td>NaN</td>\n",
       "      <td>78.09</td>\n",
       "      <td>...</td>\n",
       "      <td>3,147,136</td>\n",
       "      <td>127</td>\n",
       "      <td>1,000,000</td>\n",
       "      <td>-11,999</td>\n",
       "      <td>4.0</td>\n",
       "      <td>19.0</td>\n",
       "      <td>22 %</td>\n",
       "      <td>1.57 %</td>\n",
       "      <td>518000</td>\n",
       "      <td>2020</td>\n",
       "    </tr>\n",
       "    <tr>\n",
       "      <th>3</th>\n",
       "      <td>Nairobi</td>\n",
       "      <td>Kenya</td>\n",
       "      <td>Eastern Africa</td>\n",
       "      <td>Africa</td>\n",
       "      <td>014</td>\n",
       "      <td>002</td>\n",
       "      <td>687.37</td>\n",
       "      <td>1175.44</td>\n",
       "      <td>6966.34</td>\n",
       "      <td>150.28</td>\n",
       "      <td>...</td>\n",
       "      <td>1,073,099</td>\n",
       "      <td>97</td>\n",
       "      <td>569,140</td>\n",
       "      <td>-10,000</td>\n",
       "      <td>3.2</td>\n",
       "      <td>20.0</td>\n",
       "      <td>31 %</td>\n",
       "      <td>0.68 %</td>\n",
       "      <td>2049000</td>\n",
       "      <td>2019</td>\n",
       "    </tr>\n",
       "    <tr>\n",
       "      <th>4</th>\n",
       "      <td>Marrakech</td>\n",
       "      <td>Morocco</td>\n",
       "      <td>Northern Africa</td>\n",
       "      <td>Africa</td>\n",
       "      <td>015</td>\n",
       "      <td>002</td>\n",
       "      <td>NaN</td>\n",
       "      <td>NaN</td>\n",
       "      <td>NaN</td>\n",
       "      <td>NaN</td>\n",
       "      <td>...</td>\n",
       "      <td>382,073</td>\n",
       "      <td>85</td>\n",
       "      <td>446,300</td>\n",
       "      <td>-39,998</td>\n",
       "      <td>2.3</td>\n",
       "      <td>29.0</td>\n",
       "      <td>66 %</td>\n",
       "      <td>0.47 %</td>\n",
       "      <td>2802000</td>\n",
       "      <td>2020</td>\n",
       "    </tr>\n",
       "    <tr>\n",
       "      <th>...</th>\n",
       "      <td>...</td>\n",
       "      <td>...</td>\n",
       "      <td>...</td>\n",
       "      <td>...</td>\n",
       "      <td>...</td>\n",
       "      <td>...</td>\n",
       "      <td>...</td>\n",
       "      <td>...</td>\n",
       "      <td>...</td>\n",
       "      <td>...</td>\n",
       "      <td>...</td>\n",
       "      <td>...</td>\n",
       "      <td>...</td>\n",
       "      <td>...</td>\n",
       "      <td>...</td>\n",
       "      <td>...</td>\n",
       "      <td>...</td>\n",
       "      <td>...</td>\n",
       "      <td>...</td>\n",
       "      <td>...</td>\n",
       "      <td>...</td>\n",
       "    </tr>\n",
       "    <tr>\n",
       "      <th>383</th>\n",
       "      <td>Brisbane</td>\n",
       "      <td>Australia</td>\n",
       "      <td>Oceania</td>\n",
       "      <td>Oceania</td>\n",
       "      <td>009</td>\n",
       "      <td>009</td>\n",
       "      <td>6123.89</td>\n",
       "      <td>8461.82</td>\n",
       "      <td>8240.26</td>\n",
       "      <td>1466.43</td>\n",
       "      <td>...</td>\n",
       "      <td>261,698</td>\n",
       "      <td>3</td>\n",
       "      <td>7,682,300</td>\n",
       "      <td>139,991</td>\n",
       "      <td>1.6</td>\n",
       "      <td>38.0</td>\n",
       "      <td>86 %</td>\n",
       "      <td>0.33 %</td>\n",
       "      <td>1828000</td>\n",
       "      <td>2020</td>\n",
       "    </tr>\n",
       "    <tr>\n",
       "      <th>384</th>\n",
       "      <td>Sydney</td>\n",
       "      <td>Australia</td>\n",
       "      <td>Oceania</td>\n",
       "      <td>Oceania</td>\n",
       "      <td>009</td>\n",
       "      <td>009</td>\n",
       "      <td>9954.24</td>\n",
       "      <td>15687.42</td>\n",
       "      <td>16377.68</td>\n",
       "      <td>1881.26</td>\n",
       "      <td>...</td>\n",
       "      <td>261,698</td>\n",
       "      <td>3</td>\n",
       "      <td>7,682,300</td>\n",
       "      <td>139,991</td>\n",
       "      <td>1.6</td>\n",
       "      <td>38.0</td>\n",
       "      <td>86 %</td>\n",
       "      <td>0.33 %</td>\n",
       "      <td>1828000</td>\n",
       "      <td>2020</td>\n",
       "    </tr>\n",
       "    <tr>\n",
       "      <th>385</th>\n",
       "      <td>Auckland</td>\n",
       "      <td>New Zealand</td>\n",
       "      <td>Oceania</td>\n",
       "      <td>Oceania</td>\n",
       "      <td>009</td>\n",
       "      <td>009</td>\n",
       "      <td>7884.90</td>\n",
       "      <td>8641.98</td>\n",
       "      <td>12283.96</td>\n",
       "      <td>778.48</td>\n",
       "      <td>...</td>\n",
       "      <td>42,812</td>\n",
       "      <td>20</td>\n",
       "      <td>263,310</td>\n",
       "      <td>12,999</td>\n",
       "      <td>1.8</td>\n",
       "      <td>37.0</td>\n",
       "      <td>82 %</td>\n",
       "      <td>0.06 %</td>\n",
       "      <td>996000</td>\n",
       "      <td>2020</td>\n",
       "    </tr>\n",
       "    <tr>\n",
       "      <th>386</th>\n",
       "      <td>Christchurch</td>\n",
       "      <td>New Zealand</td>\n",
       "      <td>Oceania</td>\n",
       "      <td>Oceania</td>\n",
       "      <td>009</td>\n",
       "      <td>009</td>\n",
       "      <td>2955.29</td>\n",
       "      <td>3304.38</td>\n",
       "      <td>NaN</td>\n",
       "      <td>734.92</td>\n",
       "      <td>...</td>\n",
       "      <td>42,812</td>\n",
       "      <td>20</td>\n",
       "      <td>263,310</td>\n",
       "      <td>12,999</td>\n",
       "      <td>1.8</td>\n",
       "      <td>37.0</td>\n",
       "      <td>82 %</td>\n",
       "      <td>0.06 %</td>\n",
       "      <td>996000</td>\n",
       "      <td>2020</td>\n",
       "    </tr>\n",
       "    <tr>\n",
       "      <th>387</th>\n",
       "      <td>Wellington</td>\n",
       "      <td>New Zealand</td>\n",
       "      <td>Oceania</td>\n",
       "      <td>Oceania</td>\n",
       "      <td>009</td>\n",
       "      <td>009</td>\n",
       "      <td>6483.27</td>\n",
       "      <td>7329.18</td>\n",
       "      <td>12171.20</td>\n",
       "      <td>706.30</td>\n",
       "      <td>...</td>\n",
       "      <td>42,812</td>\n",
       "      <td>20</td>\n",
       "      <td>263,310</td>\n",
       "      <td>12,999</td>\n",
       "      <td>1.8</td>\n",
       "      <td>37.0</td>\n",
       "      <td>82 %</td>\n",
       "      <td>0.06 %</td>\n",
       "      <td>996000</td>\n",
       "      <td>2020</td>\n",
       "    </tr>\n",
       "  </tbody>\n",
       "</table>\n",
       "<p>388 rows × 73 columns</p>\n",
       "</div>"
      ],
      "text/plain": [
       "              City      Country           Region Continent Region Number  \\\n",
       "0           Harare     Zimbabwe   Eastern Africa    Africa           014   \n",
       "1    Dar es Salaam     Tanzania   Eastern Africa    Africa           014   \n",
       "2      Addis Ababa     Ethiopia   Eastern Africa    Africa           014   \n",
       "3          Nairobi        Kenya   Eastern Africa    Africa           014   \n",
       "4        Marrakech      Morocco  Northern Africa    Africa           015   \n",
       "..             ...          ...              ...       ...           ...   \n",
       "383       Brisbane    Australia          Oceania   Oceania           009   \n",
       "384         Sydney    Australia          Oceania   Oceania           009   \n",
       "385       Auckland  New Zealand          Oceania   Oceania           009   \n",
       "386   Christchurch  New Zealand          Oceania   Oceania           009   \n",
       "387     Wellington  New Zealand          Oceania   Oceania           009   \n",
       "\n",
       "    Continent Number  \\\n",
       "0                002   \n",
       "1                002   \n",
       "2                002   \n",
       "3                002   \n",
       "4                002   \n",
       "..               ...   \n",
       "383              009   \n",
       "384              009   \n",
       "385              009   \n",
       "386              009   \n",
       "387              009   \n",
       "\n",
       "    Price per Square Meter to Buy Apartment Outside of Centre  \\\n",
       "0                                                  NaN          \n",
       "1                                                  NaN          \n",
       "2                                              1487.80          \n",
       "3                                               687.37          \n",
       "4                                                  NaN          \n",
       "..                                                 ...          \n",
       "383                                            6123.89          \n",
       "384                                            9954.24          \n",
       "385                                            7884.90          \n",
       "386                                            2955.29          \n",
       "387                                            6483.27          \n",
       "\n",
       "    Price per Square Meter to Buy Apartment in City Centre  \\\n",
       "0                                              1290.35       \n",
       "1                                                  NaN       \n",
       "2                                              2078.02       \n",
       "3                                              1175.44       \n",
       "4                                                  NaN       \n",
       "..                                                 ...       \n",
       "383                                            8461.82       \n",
       "384                                           15687.42       \n",
       "385                                            8641.98       \n",
       "386                                            3304.38       \n",
       "387                                            7329.18       \n",
       "\n",
       "    International Primary School, Yearly for 1 Child  \\\n",
       "0                                            6802.31   \n",
       "1                                                NaN   \n",
       "2                                                NaN   \n",
       "3                                            6966.34   \n",
       "4                                                NaN   \n",
       "..                                               ...   \n",
       "383                                          8240.26   \n",
       "384                                         16377.68   \n",
       "385                                         12283.96   \n",
       "386                                              NaN   \n",
       "387                                         12171.20   \n",
       "\n",
       "    Preschool (or Kindergarten), Full Day, Private, Monthly for 1 Child  ...  \\\n",
       "0                                               261.54                   ...   \n",
       "1                                                  NaN                   ...   \n",
       "2                                                78.09                   ...   \n",
       "3                                               150.28                   ...   \n",
       "4                                                  NaN                   ...   \n",
       "..                                                 ...                   ...   \n",
       "383                                            1466.43                   ...   \n",
       "384                                            1881.26                   ...   \n",
       "385                                             778.48                   ...   \n",
       "386                                             734.92                   ...   \n",
       "387                                             706.30                   ...   \n",
       "\n",
       "    net_change density  land_area migrants fert_rate med_age urban_pop  \\\n",
       "0      344,872      43    386,850   -9,999       3.4    18.0      37 %   \n",
       "1    1,940,358      76    885,800  -39,997       4.6    17.0      38 %   \n",
       "2    3,147,136     127  1,000,000  -11,999       4.0    19.0      22 %   \n",
       "3    1,073,099      97    569,140  -10,000       3.2    20.0      31 %   \n",
       "4      382,073      85    446,300  -39,998       2.3    29.0      66 %   \n",
       "..         ...     ...        ...      ...       ...     ...       ...   \n",
       "383    261,698       3  7,682,300  139,991       1.6    38.0      86 %   \n",
       "384    261,698       3  7,682,300  139,991       1.6    38.0      86 %   \n",
       "385     42,812      20    263,310   12,999       1.8    37.0      82 %   \n",
       "386     42,812      20    263,310   12,999       1.8    37.0      82 %   \n",
       "387     42,812      20    263,310   12,999       1.8    37.0      82 %   \n",
       "\n",
       "    world_share  Tourism Tourism_year  \n",
       "0        0.21 %   639000         2020  \n",
       "1        0.84 %  1527000         2019  \n",
       "2        1.57 %   518000         2020  \n",
       "3        0.68 %  2049000         2019  \n",
       "4        0.47 %  2802000         2020  \n",
       "..          ...      ...          ...  \n",
       "383      0.33 %  1828000         2020  \n",
       "384      0.33 %  1828000         2020  \n",
       "385      0.06 %   996000         2020  \n",
       "386      0.06 %   996000         2020  \n",
       "387      0.06 %   996000         2020  \n",
       "\n",
       "[388 rows x 73 columns]"
      ]
     },
     "metadata": {},
     "output_type": "display_data"
    }
   ],
   "source": [
    "file_cities = \"data/cities.csv\"\n",
    "cities_df = pd.DataFrame()\n",
    "if os.path.exists(file_cities):\n",
    "\tif path(file_cities)[2]==\".csv\":\n",
    "\t\tcities_df = pd.read_csv(file_cities)\n",
    "\telif path(file_cities)[2]==\".xlsx\":\n",
    "\t\tcities_df = pd.read_excel(file_cities)\n",
    "\tif cities_df.empty:\n",
    "\t\tcities_df = scrap_cities(*path(file_cities))\n",
    "else:\n",
    "\tcities_df = scrap_cities(*path(file_cities))\n",
    "\n",
    "display(cities_df)"
   ]
  },
  {
   "cell_type": "markdown",
   "metadata": {},
   "source": [
    "Extraire les villes et leurs pays à partir de mon fichier précédemment  généré."
   ]
  },
  {
   "cell_type": "markdown",
   "metadata": {},
   "source": [
    "## 1.2 Scrapping les données sur le tourisme"
   ]
  },
  {
   "cell_type": "code",
   "execution_count": 8,
   "metadata": {},
   "outputs": [],
   "source": [
    "#TODO: ajouter les données du toursime (carine)"
   ]
  },
  {
   "cell_type": "markdown",
   "metadata": {},
   "source": [
    "## 1.3 Crawling les liens des hotels"
   ]
  },
  {
   "cell_type": "markdown",
   "metadata": {},
   "source": [
    "Nous allons créé un dicitonnaire de plusieurs niveaux pour representer la relation de composition entre les contients, les régions, les pays et les villes.\n",
    "Nous mettrons également les identifiants des continents et des régions avec. \n",
    "Voir le résultat en-bas."
   ]
  },
  {
   "cell_type": "code",
   "execution_count": 9,
   "metadata": {},
   "outputs": [
    {
     "name": "stdout",
     "output_type": "stream",
     "text": [
      "Index(['City', 'Country', 'Region', 'Continent', 'Region Number',\n",
      "       'Continent Number',\n",
      "       'Price per Square Meter to Buy Apartment Outside of Centre',\n",
      "       'Price per Square Meter to Buy Apartment in City Centre',\n",
      "       'International Primary School, Yearly for 1 Child',\n",
      "       'Preschool (or Kindergarten), Full Day, Private, Monthly for 1 Child',\n",
      "       '1 Pair of Jeans (Levis 501 Or Similar)',\n",
      "       '1 Pair of Men Leather Business Shoes',\n",
      "       '1 Pair of Nike Running Shoes (Mid-Range)',\n",
      "       '1 Summer Dress in a Chain Store (Zara, H&M, ...)', 'Apples (1kg)',\n",
      "       'Banana (1kg)', 'Beef Round (1kg) (or Equivalent Back Leg Red Meat)',\n",
      "       'Bottle of Wine (Mid-Range)', 'Chicken Fillets (1kg)',\n",
      "       'Cigarettes 20 Pack (Marlboro)', 'Domestic Beer (0.5 liter bottle)',\n",
      "       'Eggs (regular) (12)', 'Imported Beer (0.33 liter bottle)_x',\n",
      "       'Lettuce (1 head)', 'Loaf of Fresh White Bread (500g)',\n",
      "       'Local Cheese (1kg)', 'Milk (regular), (1 liter)', 'Onion (1kg)',\n",
      "       'Oranges (1kg)', 'Potato (1kg)', 'Rice (white), (1kg)', 'Tomato (1kg)',\n",
      "       'Water (1.5 liter bottle)', 'Apartment (1 bedroom) Outside of Centre',\n",
      "       'Apartment (1 bedroom) in City Centre',\n",
      "       'Apartment (3 bedrooms) Outside of Centre',\n",
      "       'Apartment (3 bedrooms) in City Centre', 'Cappuccino (regular)',\n",
      "       'Coke/Pepsi (0.33 liter bottle)', 'Domestic Beer (0.5 liter draught)',\n",
      "       'Imported Beer (0.33 liter bottle)_y',\n",
      "       'McMeal at McDonalds (or Equivalent Combo Meal)',\n",
      "       'Meal for 2 People, Mid-range Restaurant, Three-course',\n",
      "       'Meal, Inexpensive Restaurant', 'Water (0.33 liter bottle)',\n",
      "       'Average Monthly Net Salary (After Tax)',\n",
      "       'Mortgage Interest Rate in Percentages (%), Yearly, for 20 Years Fixed-Rate',\n",
      "       'Cinema, International Release, 1 Seat',\n",
      "       'Fitness Club, Monthly Fee for 1 Adult',\n",
      "       'Tennis Court Rent (1 Hour on Weekend)', 'Gasoline (1 liter)',\n",
      "       'Monthly Pass (Regular Price)', 'One-way Ticket (Local Transport)',\n",
      "       'Taxi 1hour Waiting (Normal Tariff)', 'Taxi 1km (Normal Tariff)',\n",
      "       'Taxi Start (Normal Tariff)',\n",
      "       'Toyota Corolla Sedan 1.6l 97kW Comfort (Or Equivalent New Car)',\n",
      "       'Volkswagen Golf 1.4 90 KW Trendline (Or Equivalent New Car)',\n",
      "       'Basic (Electricity, Heating, Cooling, Water, Garbage) for 85m2 Apartment',\n",
      "       'Internet (60 Mbps or More, Unlimited Data, Cable/ADSL)',\n",
      "       'Mobile Phone Monthly Plan with Calls and 10GB+ Data', 'Population',\n",
      "       'Yearly Change', 'net_change', 'density', 'land_area', 'migrants',\n",
      "       'fert_rate', 'med_age', 'urban_pop', 'world_share'],\n",
      "      dtype='object')\n"
     ]
    }
   ],
   "source": [
    "print(cities_df.columns)"
   ]
  },
  {
   "cell_type": "code",
   "execution_count": 10,
   "metadata": {},
   "outputs": [],
   "source": [
    "def create_nested_dict(df=cities_df):\n",
    "\tnested_dict = {}\n",
    "\tfor _, row in df.iterrows():\n",
    "\t\tcity = row['City']\n",
    "\t\tcountry = row['Country']\n",
    "\t\tregion = row['Region']\n",
    "\t\tcontinent = row['Continent']\n",
    "\t\tregion_number = row['Region Number']\n",
    "\t\tcontinent_number = row['Continent Number']\n",
    "\t\t\n",
    "\t\tif continent not in nested_dict:\n",
    "\t\t\tnested_dict[continent] = {'Number': continent_number, 'Regions': {}}\n",
    "\t\t\n",
    "\t\tif region not in nested_dict[continent]['Regions']:\n",
    "\t\t\tnested_dict[continent]['Regions'][region] = {'Number': region_number, 'Countries': {}}\n",
    "\t\t\n",
    "\t\tif country not in nested_dict[continent]['Regions'][region]['Countries']:\n",
    "\t\t\tnested_dict[continent]['Regions'][region]['Countries'][country] = []\n",
    "\t\t\n",
    "\t\tnested_dict[continent]['Regions'][region]['Countries'][country].append(city)\n",
    "\t\n",
    "\treturn nested_dict\n",
    "continents = create_nested_dict()"
   ]
  },
  {
   "cell_type": "markdown",
   "metadata": {},
   "source": [
    "Une function qui lance une recherche sur booking.com, et enregistre dans un fichier par (continent, région). Example: 'links/hotels_Africa_2_Eastern Africa_14.csv\n",
    "Le dossier links pourra plus tard etre supprimé."
   ]
  },
  {
   "cell_type": "code",
   "execution_count": 11,
   "metadata": {},
   "outputs": [],
   "source": [
    "def crawl_hotel_links(continents = continents):   \n",
    "\texecution_times = []\n",
    "\tall_execution_times = []\n",
    "\thotel_results = []\n",
    "\t# Loop through pages 1 to 40\n",
    "\tcheck_in = \"2024-11-16\" \n",
    "\tcheck_out = \"2024-11-17\" \n",
    "\n",
    "\turl = \"https://www.booking.com/searchresults.html?ss={}&aid=304142&lang=en-us&sb=1&src_elem=sb&src=index&dest_type=city&ac_position=0&ac_click_type=b&ac_langcode=en&ac_suggestion_list_length=5&search_selected=true&checkin={}&checkout={}&group_adults=1&no_rooms=1&group_children=0&sb_travel_purpose=leisure&offset={}&selected_currency=EUR\"\n",
    "\tfor continent, regions in tqdm(continents.items()):\n",
    "\t\tstart_time = time.time() \n",
    "\t\tncontinent = regions[\"Number\"]\n",
    "\t\tfor region, countries in tqdm(regions[\"Regions\"].items()):\n",
    "\t\t\tnregion = countries[\"Number\"]\n",
    "\t\t\thotel_results = []\n",
    "\t\t\tfor country, cities in (countries[\"Countries\"].items()):\n",
    "\t\t\t\tfor city in cities:\n",
    "\t\t\t\t\tfor page_number in range(0, 1, 1):\n",
    "\t\t\t\t\t\turl2 = url.format(city, check_in, check_out, page_number)\n",
    "\t\t\t\t\t\tresponse = requests.get(url2, headers=headers)\n",
    "\t\t\t\t\t\tsoup = BeautifulSoup(response.text, 'html.parser')\n",
    "\t\t\t\t\t\t\n",
    "\t\t\t\t\t\tall_cards = soup.find_all(\"div\", {\"data-testid\": \"property-card\"})\n",
    "\t\t\t\t\t\t# Keep 50% of the data, change the percentage as needed\n",
    "\t\t\t\t\t\tpercentage_to_keep = 0.5\n",
    "\t\t\t\t\t\tsample_size = int(len(all_cards) * percentage_to_keep)\n",
    "\n",
    "\t\t\t\t\t\tsample_cards = random.sample(all_cards, sample_size) if all_cards else []\n",
    "\n",
    "\t\t\t\t\t\tfor card in sample_cards:\n",
    "\t\t\t\t\t\t\ta = card.find(\"a\", {\"class\":\"a78ca197d0\"})\n",
    "\t\t\t\t\t\t\thref = a.get('href') \n",
    "\t\t\t\t\t\t\tname = card.find(\"div\", {\"data-testid\": \"title\"}).text.strip()\n",
    "\t\t\t\t\t\t\trating = card.find(\"div\", {\"class\": \"a3b8729ab1 e6208ee469 cb2cbb3ccb\"})\n",
    "\t\t\t\t\t\t\tscore = card.find(\"div\", {\"class\": \"a3b8729ab1 d86cee9b25\"})\n",
    "\t\t\t\t\t\t\tnbReviews = card.find(\"div\", {\"class\": \"abf093bdfe f45d8e4c32 d935416c47\"})\n",
    "\t\t\t\t\t\t\tdistance_from_center_element = card.find(\"span\", string=lambda text: \"from center\" in text.lower() if text else \"\")\n",
    "\t\t\t\t\t\t\tif distance_from_center_element:\n",
    "\t\t\t\t\t\t\t\tdistance_text = distance_from_center_element.text.removesuffix(\"from center\").strip()\n",
    "\t\t\t\t\t\t\t\tdistance = re.findall(r'\\d+\\.?\\d*', distance_text)\n",
    "\t\t\t\t\t\t\t\tdistance = float(distance[0]) if distance else None\n",
    "\t\t\t\t\t\t\t\tif \" m \" in distance_text and \"km\" not in distance_text:\n",
    "\t\t\t\t\t\t\t\t\tdistance /= 1000  # convert meters to kilometers\n",
    "\t\t\t\t\t\t\t\telif \"mile\" in distance_text:\n",
    "\t\t\t\t\t\t\t\t\tdistance *= 1.60934  # convert miles to kilometers\t\n",
    "\t\t\t\t\t\t\tstar_element = card.find(\"div\", {\"aria-label\": re.compile(r\"out of 5\")})\n",
    "\t\t\t\t\t\t\tif star_element:\n",
    "\t\t\t\t\t\t\t\tstars = len(star_element.find_all(\"svg\"))\n",
    "\t\t\t\t\t\t\telse:\n",
    "\t\t\t\t\t\t\t\tstars = 0\n",
    "\t\t\t\t\t\t\thotel_results.append({\n",
    "\t\t\t\t\t\t\t\t\"Name\": name,\n",
    "\t\t\t\t\t\t\t\t#\"Description\": card.find('div', {'class': 'recommended-units', 'class': 'abf093bdfe'}).text.strip(),\n",
    "\t\t\t\t\t\t\t\t\"City\": city,\n",
    "\t\t\t\t\t\t\t\t\"Country\": country,\n",
    "\t\t\t\t\t\t\t\t\"Region\": region,\n",
    "\t\t\t\t\t\t\t\t\"Continent\": continent,\n",
    "\t\t\t\t\t\t\t\t\"Region Number\": nregion,\n",
    "\t\t\t\t\t\t\t\t\"Continent Number\": ncontinent,\n",
    "\t\t\t\t\t\t\t\t\"Location\": card.find(\"span\", {\"data-testid\": \"address\"}).text.strip(),\n",
    "\t\t\t\t\t\t\t\t\"Rating\": rating.text.strip() if rating else None,\n",
    "\t\t\t\t\t\t\t\t\"Score\": float(score.text.split(' ')[1].strip()) if score else None,\n",
    "\t\t\t\t\t\t\t\t\"NbReviews\": nbReviews.text.strip().split(\" \")[0] if nbReviews else None, \n",
    "\t\t\t\t\t\t\t\t\"Distance from center\": distance if distance_from_center_element else None,\n",
    "\t\t\t\t\t\t\t\t\"Stars\" : stars,\n",
    "\t\t\t\t\t\t\t\t\"Url link\": href,\n",
    "\t\t\t\t\t\t\t})\n",
    "\t\t\t\t\t\t\tend_time = time.time()\n",
    "\t\t\t\t\t\t\texecution_times.append(end_time - start_time)\n",
    "\t\tstart_time = time.time()\n",
    "\n",
    "\t\tfile = f\"links/hotels_{continent}_{ncontinent}_{region}_{nregion}.csv\"\n",
    "\t\thotel_links_df = pd.DataFrame(hotel_results) \n",
    "\t\thotel_links_df = hotel_links_df.sort_values(by=['Name', \"Location\"], ascending=[True, True])\n",
    "\t\thotel_links_df = hotel_links_df.dropna()\n",
    "\t\thotel_links_df = hotel_links_df.reset_index(drop=True)\n",
    "\t\thotel_links_df.to_csv(file, index=False)\n",
    "\t\thotel_links_df.truncate()\n",
    "\t\tall_execution_times.append(execution_times)\n",
    "\t\texecution_times = []\n",
    "\n",
    "\twith open(\"links/.done\", \"w\") as f:\n",
    "\t\tpass\n",
    "\n",
    "\treturn pd.DataFrame({\n",
    "\t\t'Continent': np.repeat(list(continents.keys()), [len(et) for et in all_execution_times]),\n",
    "\t\t'Iteration': [i+1 for et in all_execution_times for i in range(len(et))],\n",
    "\t\t'Execution time (seconds)': [time for et in all_execution_times for time in et]\n",
    "\t})\n",
    "\n",
    "\t\t\t"
   ]
  },
  {
   "cell_type": "code",
   "execution_count": 12,
   "metadata": {},
   "outputs": [
    {
     "name": "stdout",
     "output_type": "stream",
     "text": [
      "links already done\n"
     ]
    }
   ],
   "source": [
    "rep = \"links/.done\"\n",
    "\n",
    "if not os.path.exists(rep):\n",
    "\texec_time = crawl_hotel_links(continents)\n",
    "else:\n",
    "    print(\"links already done\")"
   ]
  },
  {
   "cell_type": "code",
   "execution_count": null,
   "metadata": {},
   "outputs": [],
   "source": [
    "crawling_exec_time = exec_time.copy()\n",
    "crawling_exec_time['Execution time (seconds)'] = (\n",
    "    crawling_exec_time.groupby('Continent')['Execution time (seconds)']\n",
    "    .transform(lambda x: x.rolling(15).mean())\n",
    ")\n",
    "\n",
    "sns.lineplot(x='Iteration', y='Execution time (seconds)', hue='Continent', data=crawling_exec_time)\n",
    "plt.title(f\"Crawling: execution time for each continent\\n Total = {crawling_exec_time.groupby('Continent')['Execution time (seconds)'].max().sum()/60:.1f} minutes\")\n",
    "plt.show()"
   ]
  },
  {
   "cell_type": "markdown",
   "metadata": {},
   "source": [
    "## 1.4 Scrapping les données des hotels"
   ]
  },
  {
   "cell_type": "code",
   "execution_count": 37,
   "metadata": {},
   "outputs": [],
   "source": [
    "\n",
    "def scrap_hotels_data(hotels_df, cities_df = cities_df, region= \"Western Europe\"):        \n",
    "\tcolumns = ['Url link', 'Room Type', 'Guests nb', 'Price', 'Staff_rating', 'Facilities_rating',\n",
    "\t\t\t'Cleanliness_rating', 'Comfort_rating', 'Value_for_money_rating', 'Location_rating',\n",
    "\t\t\t'Breakfast', 'Cancellation']\n",
    "\tdf_tab = pd.DataFrame(columns=columns)\n",
    "\tfor link in tqdm(hotels_df[\"Url link\"]):\n",
    "\t\t\"\"\"with open('output.txt', 'w') as f:\n",
    "\t\t\tprint(link, file =f) \"\"\"\n",
    "\t\t\n",
    "\t\tresponse = requests.get(link, headers=headers)\n",
    "\t\tsoup = BeautifulSoup(response.text, 'html.parser')\n",
    "\n",
    "\t\ttable = soup.find(\"table\", {\"id\": \"hprt-table\"})\n",
    "\t\tif table is None:\n",
    "\t\t\tcontinue\n",
    "\t\ttbody = table.find(\"tbody\")\n",
    "\t\ttrs = tbody.find_all(\"tr\")\n",
    "\n",
    "\t\tl = []\n",
    "\n",
    "\t\tcatgs = soup.find_all(\"div\", {\"class\": \"b817090550 a7cf1a6b1d\"})\n",
    "\t\ti = 0\n",
    "\t\tfor cat in catgs:\n",
    "\t\t\tif i == 6:  # Only the first 6 infos are needed\n",
    "\t\t\t\tbreak\n",
    "\t\t\td = cat.find(\"div\", {\"class\": \"ccb65902b2 efcd70b4c4\"})\n",
    "\t\t\tif d is not None:\n",
    "\t\t\t\td = float(d.text)\n",
    "\t\t\tl.append(d)\n",
    "\t\t\ti = i + 1\n",
    "\n",
    "\t\tfor tr in trs:\n",
    "\t\t\ttds = tr.find_all(\"td\")\n",
    "\n",
    "\t\t\tif len(tds) == 5:\n",
    "\t\t\t\troom_type = tds[0].find(\"span\", {\"class\": \"hprt-roomtype-icon-link\"}).text.strip()\n",
    "\t\t\t\tguests_nb = tds[1].find(\"span\", {\"class\": \"bui-u-sr-only\"}).text.strip()\n",
    "\t\t\t\tprice = tds[2].find(\"span\", {\"class\": \"prco-valign-middle-helper\"}).text.strip()\n",
    "\t\t\t\tbreakfast_info = tds[3].find(\"div\", {\"class\": \"bui-list__description\"})\n",
    "\t\t\t\tcancellation_info = tds[3].find(\"strong\", {\"class\": \"bui-text--variant-strong_2\"})\n",
    "\t\t\telse:\n",
    "\t\t\t\tguests_nb = tds[0].find(\"span\", {\"class\": \"bui-u-sr-only\"}).text.strip()\n",
    "\t\t\t\tprice = tds[1].find(\"span\", {\"class\": \"prco-valign-middle-helper\"}).text.strip() \n",
    "\t\t\t\tbreakfast_info = tds[2].find(\"div\", {\"class\": \"bui-list__description\"})\n",
    "\t\t\t\tcancellation_info = tds[2].find(\"strong\", {\"class\": \"bui-text--variant-strong_2\"})\n",
    "\t\t\t\n",
    "\t\t\tif breakfast_info is None:\n",
    "\t\t\t\tbreakfast = -1\n",
    "\t\t\telif  \"included\" in breakfast_info.text.lower():\n",
    "\t\t\t\t\tbreakfast = 0\n",
    "\t\t\telse:\n",
    "\t\t\t\t\tbreakfast_price = re.search(r'(\\d+(\\.\\d+)?)', breakfast_info.text)\n",
    "\t\t\t\t\tbreakfast = breakfast_price.group(1) if breakfast_price else -1    \n",
    "\t\t\tif cancellation_info is None:\n",
    "\t\t\t\tcancellation=None\n",
    "\t\t\telif \"non-refundable\" in cancellation_info.text.lower():\n",
    "\t\t\t\t\tcancellation = 0\n",
    "\t\t\telif \"free cancellation\" in cancellation_info.text.lower():\n",
    "\t\t\t\t\tcancellation = 1\n",
    "\t\t\telse:\n",
    "\t\t\t\t\tcancellation = None\n",
    "\t\t\tif len(l) < 6:\n",
    "\t\t\t\tl += [pd.NA] * (6 - len(l))\n",
    "\n",
    "\t\t\tnew_row = {'Url link': link, 'Room Type': room_type, 'Guests nb': guests_nb, 'Price': price,\n",
    "\t\t\t\t\t'Staff_rating': l[0], 'Facilities_rating': l[1], 'Cleanliness_rating': l[2],\n",
    "\t\t\t\t\t'Comfort_rating': l[3], 'Value_for_money_rating': l[4], 'Location_rating': l[5],\n",
    "\t\t\t\t\t'Breakfast': breakfast, 'Cancellation': cancellation}\n",
    "\n",
    "\t\t\tdf_tab.loc[len(df_tab)] = new_row\n",
    "\t\tend_time = time.time()\n",
    "\t# Read the world_population.csv file into a DataFrame\n",
    "\n",
    "\t#remove region number and continent number from df_tab\n",
    "\t#cities_df = cities_df.drop(columns=['Region Number', 'Continent Number'])\n",
    "\t#merged_df = pd.merge(hotels_df, df_tab, on='Url link', how='left')\n",
    "\t#merged_df = pd.merge(merged_df, cities_df, on=['City', 'Country', 'Region', 'Continent'], how='left')\n",
    "\t#df_tab = df_tab.dropna()\n",
    "\tfile = f\"data2/hotels_{region}.csv\"\n",
    "\tdf_tab.to_csv(file, index=False)\n",
    "\treturn df_tab\n"
   ]
  },
  {
   "cell_type": "markdown",
   "metadata": {},
   "source": [
    "Faisons un test sur le premier fichier de liens (correspondant à une region géographique)."
   ]
  },
  {
   "cell_type": "code",
   "execution_count": 38,
   "metadata": {},
   "outputs": [],
   "source": [
    "def scrap_region(link_file):\n",
    "\tlinks_df = pd.read_csv(link_file)\n",
    "\tpath, continent, Nc, region, nR , ext= hotel_link(link_file)\n",
    "\tif os.path.exists(f\"data2/hotels_{region}.csv\"):\n",
    "\t\tdata  = pd.read_csv(link_file)  \n",
    "\t\tif data.empty:\n",
    "\t\t\tdata = scrap_hotels_data(links_df[links_df[\"Region\"]==region],region=region)\n",
    "\telse:\n",
    "\t\tdata = scrap_hotels_data(links_df[links_df[\"Region\"]==region], region=region)\n",
    "\n"
   ]
  },
  {
   "cell_type": "code",
   "execution_count": 39,
   "metadata": {},
   "outputs": [
    {
     "data": {
      "text/plain": [
       "'links/hotels_Africa_2_Eastern Africa_14.csv'"
      ]
     },
     "metadata": {},
     "output_type": "display_data"
    },
    {
     "name": "stderr",
     "output_type": "stream",
     "text": [
      "100%|██████████| 98/98 [08:07<00:00,  4.97s/it]\n"
     ]
    },
    {
     "data": {
      "text/plain": [
       "'links/hotels_Africa_2_Northern Africa_15.csv'"
      ]
     },
     "metadata": {},
     "output_type": "display_data"
    },
    {
     "name": "stderr",
     "output_type": "stream",
     "text": [
      "100%|██████████| 226/226 [18:10<00:00,  4.82s/it]\n"
     ]
    },
    {
     "data": {
      "text/plain": [
       "'links/hotels_Africa_2_Southern Africa_18.csv'"
      ]
     },
     "metadata": {},
     "output_type": "display_data"
    },
    {
     "name": "stderr",
     "output_type": "stream",
     "text": [
      "100%|██████████| 150/150 [12:07<00:00,  4.85s/it]\n"
     ]
    },
    {
     "data": {
      "text/plain": [
       "'links/hotels_Africa_2_Western Africa_11.csv'"
      ]
     },
     "metadata": {},
     "output_type": "display_data"
    },
    {
     "name": "stderr",
     "output_type": "stream",
     "text": [
      "100%|██████████| 36/36 [03:10<00:00,  5.29s/it]\n"
     ]
    },
    {
     "data": {
      "text/plain": [
       "'links/hotels_America_19_Caribbean_29.csv'"
      ]
     },
     "metadata": {},
     "output_type": "display_data"
    },
    {
     "name": "stderr",
     "output_type": "stream",
     "text": [
      "100%|██████████| 74/74 [06:24<00:00,  5.20s/it]\n"
     ]
    },
    {
     "data": {
      "text/plain": [
       "'links/hotels_America_19_Central America_13.csv'"
      ]
     },
     "metadata": {},
     "output_type": "display_data"
    },
    {
     "name": "stderr",
     "output_type": "stream",
     "text": [
      "100%|██████████| 128/128 [12:05<00:00,  5.67s/it]\n"
     ]
    },
    {
     "data": {
      "text/plain": [
       "'links/hotels_America_19_Northern America_21.csv'"
      ]
     },
     "metadata": {},
     "output_type": "display_data"
    },
    {
     "name": "stderr",
     "output_type": "stream",
     "text": [
      "100%|██████████| 1671/1671 [2:26:39<00:00,  5.27s/it]  \n"
     ]
    },
    {
     "data": {
      "text/plain": [
       "'links/hotels_America_19_South America_5.csv'"
      ]
     },
     "metadata": {},
     "output_type": "display_data"
    },
    {
     "name": "stderr",
     "output_type": "stream",
     "text": [
      "100%|██████████| 250/250 [23:30<00:00,  5.64s/it]\n"
     ]
    },
    {
     "data": {
      "text/plain": [
       "'links/hotels_Asia_142_Central Asia_143.csv'"
      ]
     },
     "metadata": {},
     "output_type": "display_data"
    },
    {
     "name": "stderr",
     "output_type": "stream",
     "text": [
      "100%|██████████| 75/75 [06:49<00:00,  5.46s/it]\n"
     ]
    },
    {
     "data": {
      "text/plain": [
       "'links/hotels_Asia_142_Eastern Asia_30.csv'"
      ]
     },
     "metadata": {},
     "output_type": "display_data"
    },
    {
     "name": "stderr",
     "output_type": "stream",
     "text": [
      "100%|██████████| 394/394 [38:08<00:00,  5.81s/it] \n"
     ]
    },
    {
     "data": {
      "text/plain": [
       "'links/hotels_Asia_142_South-Eastern Asia_35.csv'"
      ]
     },
     "metadata": {},
     "output_type": "display_data"
    },
    {
     "name": "stderr",
     "output_type": "stream",
     "text": [
      "100%|██████████| 278/278 [19:45<00:00,  4.26s/it]\n"
     ]
    },
    {
     "data": {
      "text/plain": [
       "'links/hotels_Asia_142_Southern Asia_34.csv'"
      ]
     },
     "metadata": {},
     "output_type": "display_data"
    },
    {
     "name": "stderr",
     "output_type": "stream",
     "text": [
      "100%|██████████| 661/661 [33:42<00:00,  3.06s/it]\n"
     ]
    },
    {
     "data": {
      "text/plain": [
       "'links/hotels_Asia_142_Western Asia_145.csv'"
      ]
     },
     "metadata": {},
     "output_type": "display_data"
    },
    {
     "name": "stderr",
     "output_type": "stream",
     "text": [
      "100%|██████████| 319/319 [19:26<00:00,  3.66s/it]\n"
     ]
    },
    {
     "data": {
      "text/plain": [
       "'links/hotels_Europe_150_Eastern Europe_151.csv'"
      ]
     },
     "metadata": {},
     "output_type": "display_data"
    },
    {
     "name": "stderr",
     "output_type": "stream",
     "text": [
      "100%|██████████| 772/772 [43:47<00:00,  3.40s/it] \n"
     ]
    },
    {
     "data": {
      "text/plain": [
       "'links/hotels_Europe_150_Northern Europe_154.csv'"
      ]
     },
     "metadata": {},
     "output_type": "display_data"
    },
    {
     "name": "stderr",
     "output_type": "stream",
     "text": [
      "100%|██████████| 1041/1041 [1:04:57<00:00,  3.74s/it]\n"
     ]
    },
    {
     "data": {
      "text/plain": [
       "'links/hotels_Europe_150_Southern Europe_39.csv'"
      ]
     },
     "metadata": {},
     "output_type": "display_data"
    },
    {
     "name": "stderr",
     "output_type": "stream",
     "text": [
      "100%|██████████| 903/903 [1:23:23<00:00,  5.54s/it]  \n"
     ]
    },
    {
     "data": {
      "text/plain": [
       "'links/hotels_Europe_150_Western Europe_155.csv'"
      ]
     },
     "metadata": {},
     "output_type": "display_data"
    },
    {
     "name": "stderr",
     "output_type": "stream",
     "text": [
      "100%|██████████| 515/515 [1:01:53<00:00,  7.21s/it]\n"
     ]
    },
    {
     "data": {
      "text/plain": [
       "'links/hotels_Oceania_9_Oceania_9.csv'"
      ]
     },
     "metadata": {},
     "output_type": "display_data"
    },
    {
     "name": "stderr",
     "output_type": "stream",
     "text": [
      "100%|██████████| 110/110 [10:35<00:00,  5.78s/it]\n"
     ]
    }
   ],
   "source": [
    "file_path = 'data2/scrap_exe_time.csv'\n",
    "\n",
    "if not os.path.exists(\".done\"):    \n",
    "\tfile_names = [os.path.join(\"links/\", file) for file in os.listdir(\"links/\") if file != '.done' and os.path.isfile(os.path.join(\"links/\", file))]\n",
    "\tfor link_file in file_names:\n",
    "\t\tif not os.path.exists(file_path):\n",
    "\t\t\tdf = pd.DataFrame(columns=['Continent', 'Region', 'Execution time (minutes)'])\n",
    "\t\t\tdf.to_csv(file_path, index=False)\n",
    "\t\tdf = pd.read_csv(file_path)\n",
    "\t\tstart_time = time.time()\n",
    "\t\tdisplay(link_file)\n",
    "\t\tscrap_region(link_file)\n",
    "\t\tend_time = time.time()\n",
    "\t\tnew_row = {'Continent': hotel_link(link_file)[1], 'Region': hotel_link(link_file)[3], 'Execution time (minutes)': (end_time - start_time)/60}\n",
    "\t\tdf.loc[len(df)]= new_row\n",
    "\t\tdf.to_csv(file_path, index=False)\n",
    "\t\twinsound.Beep(1000, 2000)\n",
    "else:\n",
    "\tprint(\"Data already scrapped\")"
   ]
  },
  {
   "cell_type": "code",
   "execution_count": 48,
   "metadata": {},
   "outputs": [
    {
     "data": {
      "image/png": "[encoded data removed]",
      "text/plain": [
       "<Figure size 1500x500 with 2 Axes>"
      ]
     },
     "metadata": {},
     "output_type": "display_data"
    }
   ],
   "source": [
    "exec_time = pd.read_csv(\"data2/scrap_exe_time.csv\")\n",
    "# Calculate total execution time for each continent\n",
    "total_time_by_continent = exec_time.groupby('Continent')['Execution time (minutes)'].sum()\n",
    "sorted_continents = total_time_by_continent.sort_values(ascending=False).index\n",
    "palette = dict(zip(sorted_continents, sns.color_palette(n_colors=len(sorted_continents))))\n",
    "fig, axes = plt.subplots(1, 2, figsize=(15, 5))\n",
    "\n",
    "exec_time = exec_time.sort_values('Execution time (minutes)', ascending=False)\n",
    "sns.barplot(y='Execution time (minutes)', x='Region', data=exec_time, hue='Continent', ax=axes[0], orient='v', palette=palette)\n",
    "axes[0].set_xticklabels(axes[0].get_xticklabels(), rotation=90)\n",
    "axes[0].set_title(\"Execution time for each region\")\n",
    "fig.savefig('./plots/Execution_time_for_each_region.png')\n",
    "\n",
    "exec_time_by_continent = exec_time.groupby('Continent')['Execution time (minutes)'].sum().reset_index()\n",
    "exec_time_by_continent = exec_time_by_continent.sort_values('Execution time (minutes)', ascending=False)\n",
    "sns.barplot(y='Execution time (minutes)', x='Continent', data=exec_time_by_continent, ax=axes[1], orient='v', palette=palette)\n",
    "\n",
    "total_time = exec_time_by_continent['Execution time (minutes)'].sum()\n",
    "axes[1].set_title(f\"Execution time for each continent \\nTotal time:  {(total_time/60):.1f} hours\")\n",
    "\n",
    "fig.savefig('./plots/Execution_time_for_each_continent.png')\n",
    "\n",
    "plt.tight_layout()\n",
    "plt.show()"
   ]
  },
  {
   "cell_type": "markdown",
   "metadata": {},
   "source": [
    "Move the ratings to the links file (meaning: they concern a hotel, not the hotel room)"
   ]
  },
  {
   "cell_type": "code",
   "execution_count": 65,
   "metadata": {},
   "outputs": [],
   "source": [
    "import pandas as pd\n",
    "import glob\n",
    "import os\n",
    "\n",
    "def extract_region_name(file_path):\n",
    "\treturn file_path.split('/')[-1].split('_')[1].split('.')[0]\n",
    "\n",
    "data_files = glob.glob('./data/hotels_*.csv')\n",
    "result = {}\n",
    "\n",
    "for file in data_files:\n",
    "\tdf = pd.read_csv(file)\n",
    "\tdf = df.groupby('Url link')[['Staff_rating', 'Facilities_rating', 'Cleanliness_rating', 'Comfort_rating', 'Value_for_money_rating', 'Location_rating']].mean().reset_index()\n",
    "\tregion = extract_region_name(file)\n",
    "\tlink_file = glob.glob(f'./links/*_{region}_*.csv')[0]\n",
    "\tdf_link = pd.read_csv(link_file)\n",
    "\tdf_merged = pd.merge(df_link, df, on='Url link', how='left')\n",
    "\t#display(df_merged.head())\n",
    "\tdf_merged.to_csv(link_file)"
   ]
  },
  {
   "cell_type": "code",
   "execution_count": 67,
   "metadata": {},
   "outputs": [],
   "source": [
    "data_files = glob.glob('./data/hotels_*.csv')\n",
    "for file in data_files:\n",
    "\tdf = pd.read_csv(file)\n",
    "\tdf.drop(columns=['Staff_rating', 'Facilities_rating', 'Cleanliness_rating', 'Comfort_rating', 'Value_for_money_rating', 'Location_rating'], inplace=True)\n",
    "\tdf.to_csv(file)"
   ]
  }
 ],
 "metadata": {
  "kernelspec": {
   "display_name": "base",
   "language": "python",
   "name": "python3"
  },
  "language_info": {
   "codemirror_mode": {
    "name": "ipython",
    "version": 3
   },
   "file_extension": ".py",
   "mimetype": "text/x-python",
   "name": "python",
   "nbconvert_exporter": "python",
   "pygments_lexer": "ipython3",
   "version": "3.11.5"
  }
 },
 "nbformat": 4,
 "nbformat_minor": 2
}
