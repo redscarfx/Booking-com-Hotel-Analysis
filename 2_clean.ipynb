{
 "cells": [
  {
   "cell_type": "code",
   "execution_count": 1,
   "metadata": {},
   "outputs": [],
   "source": [
    "import pandas as pd\n",
    "import numpy as np\n",
    "from tools import *"
   ]
  },
  {
   "cell_type": "markdown",
   "metadata": {},
   "source": [
    "# 2. Cleaning Data"
   ]
  },
  {
   "cell_type": "markdown",
   "metadata": {},
   "source": [
    "## 2.1 Data formatting (excute it only once)"
   ]
  },
  {
   "cell_type": "code",
   "execution_count": 2,
   "metadata": {},
   "outputs": [],
   "source": [
    "def formatting(file_names_v, columns_to_clean):\n",
    "\t\t# iterate on each file \n",
    "\tfor file_name in file_names_v:\n",
    "\t\tdf = pd.read_csv(file_name)\n",
    "\t\t##\n",
    "\t\t#df['Guests nb'] = df['Guests nb'].astype(str).str.extractall('(\\d+)').astype(int).groupby(level=0).max()\n",
    "\t\t# in the column \"NbReviews\",\"Price\" euro,\"Population\",\"land_area\",\"migrants\", \"Yearly Change\", \"net_change\", \"urban_pop\" and \"world_share\" remove the % sign if it exists and convert it to float (the , is not replaced by . )\n",
    "\t# 259,600.\n",
    "\t\tfor col in columns_to_clean:\n",
    "\t\t\tdf[col] = df[col].replace('N.A.', np.nan)\n",
    "\t\t\tdf[col] = df[col].astype(str).str.replace('[%,€]', '', regex=True).astype(float)\n",
    "\t\t# save the changes in the same file\n",
    "\t\tdf.to_csv(file_name, index=False)\n"
   ]
  },
  {
   "cell_type": "code",
   "execution_count": 12,
   "metadata": {},
   "outputs": [
    {
     "data": {
      "text/plain": [
       "['Price', 'Cancellation', 'Breakfast', 'Guests nb']"
      ]
     },
     "metadata": {},
     "output_type": "display_data"
    }
   ],
   "source": [
    "columns_to_clean = list(set(columns_room)-set(columns_hotel+['Room Type']))\n",
    "display(columns_to_clean)\n",
    "formatting(files_names,columns_to_clean)"
   ]
  },
  {
   "cell_type": "code",
   "execution_count": 13,
   "metadata": {},
   "outputs": [
    {
     "data": {
      "text/plain": [
       "['Value_for_money_rating',\n",
       " 'McMeal at McDonalds (or Equivalent Combo Meal)',\n",
       " 'Domestic Beer (0.5 liter bottle)',\n",
       " 'Water (1.5 liter bottle)',\n",
       " 'Water (0.33 liter bottle)',\n",
       " 'Apartment (3 bedrooms) Outside of Centre',\n",
       " 'Meal, Inexpensive Restaurant',\n",
       " 'Taxi 1km (Normal Tariff)',\n",
       " 'City',\n",
       " 'Lettuce (1 head)',\n",
       " 'NbReviews',\n",
       " 'Facilities_rating',\n",
       " 'Comfort_rating',\n",
       " 'Apartment (1 bedroom) Outside of Centre',\n",
       " 'Cigarettes 20 Pack (Marlboro)',\n",
       " 'Milk (regular), (1 liter)',\n",
       " 'Score',\n",
       " 'Price per Square Meter to Buy Apartment in City Centre',\n",
       " 'Distance from center',\n",
       " 'Domestic Beer (0.5 liter draught)',\n",
       " 'Mobile Phone Monthly Plan with Calls and 10GB+ Data',\n",
       " 'Volkswagen Golf 1.4 90 KW Trendline (Or Equivalent New Car)',\n",
       " 'Potato (1kg)',\n",
       " 'Location_rating',\n",
       " 'Meal for 2 People, Mid-range Restaurant, Three-course',\n",
       " 'Name',\n",
       " 'Location',\n",
       " 'Apples (1kg)',\n",
       " 'Cappuccino (regular)',\n",
       " 'Gasoline (1 liter)',\n",
       " '1 Pair of Men Leather Business Shoes',\n",
       " 'Mortgage Interest Rate in Percentages (%), Yearly, for 20 Years Fixed-Rate',\n",
       " 'Chicken Fillets (1kg)',\n",
       " 'Bottle of Wine (Mid-Range)',\n",
       " '1 Summer Dress in a Chain Store (Zara, H&M, ...)',\n",
       " '1 Pair of Jeans (Levis 501 Or Similar)',\n",
       " 'Eggs (regular) (12)',\n",
       " 'Cleanliness_rating',\n",
       " 'Preschool (or Kindergarten), Full Day, Private, Monthly for 1 Child',\n",
       " 'Apartment (1 bedroom) in City Centre',\n",
       " 'Tomato (1kg)',\n",
       " 'Taxi 1hour Waiting (Normal Tariff)',\n",
       " 'Staff_rating',\n",
       " 'Imported Beer (0.33 liter bottle)_y',\n",
       " 'Local Cheese (1kg)',\n",
       " 'Basic (Electricity, Heating, Cooling, Water, Garbage) for 85m2 Apartment',\n",
       " 'Loaf of Fresh White Bread (500g)',\n",
       " 'Url link',\n",
       " 'Stars',\n",
       " 'Coke/Pepsi (0.33 liter bottle)',\n",
       " '1 Pair of Nike Running Shoes (Mid-Range)',\n",
       " 'Apartment (3 bedrooms) in City Centre',\n",
       " 'Imported Beer (0.33 liter bottle)_x',\n",
       " 'Oranges (1kg)',\n",
       " 'Price per Square Meter to Buy Apartment Outside of Centre',\n",
       " 'International Primary School, Yearly for 1 Child',\n",
       " 'Tennis Court Rent (1 Hour on Weekend)',\n",
       " 'Cinema, International Release, 1 Seat',\n",
       " 'Onion (1kg)',\n",
       " 'Taxi Start (Normal Tariff)',\n",
       " 'Internet (60 Mbps or More, Unlimited Data, Cable/ADSL)',\n",
       " 'Fitness Club, Monthly Fee for 1 Adult',\n",
       " 'Monthly Pass (Regular Price)',\n",
       " 'One-way Ticket (Local Transport)',\n",
       " 'Average Monthly Net Salary (After Tax)',\n",
       " 'Beef Round (1kg) (or Equivalent Back Leg Red Meat)',\n",
       " 'Rice (white), (1kg)',\n",
       " 'Toyota Corolla Sedan 1.6l 97kW Comfort (Or Equivalent New Car)',\n",
       " 'Banana (1kg)']"
      ]
     },
     "metadata": {},
     "output_type": "display_data"
    }
   ],
   "source": [
    "columns_to_clean = list(set(columns_hotel)-set(columns_country))\n",
    "display(columns_to_clean)\n"
   ]
  },
  {
   "cell_type": "code",
   "execution_count": 38,
   "metadata": {},
   "outputs": [],
   "source": [
    "formatting(files_links_names[0:5], ['NbReviews'])"
   ]
  },
  {
   "cell_type": "code",
   "execution_count": 39,
   "metadata": {},
   "outputs": [],
   "source": [
    "formatting(files_links_names[5:10], ['NbReviews'])"
   ]
  },
  {
   "cell_type": "code",
   "execution_count": 40,
   "metadata": {},
   "outputs": [],
   "source": [
    "formatting(files_links_names[10:], ['NbReviews'])"
   ]
  },
  {
   "cell_type": "code",
   "execution_count": 8,
   "metadata": {},
   "outputs": [],
   "source": [
    "def formatting_cities(cities_file, columns_to_clean):\n",
    "\tdf = pd.read_csv(cities_file)\n",
    "\tfor col in columns_to_clean:\n",
    "\t\tdf[col] = df[col].replace('N.A.', np.nan)\n",
    "\t\tdf[col] = df[col].astype(str).str.replace('[%,€]', '', regex=True).astype(float)\n",
    "\tdf.to_csv(cities_file, index=False)\n"
   ]
  },
  {
   "cell_type": "code",
   "execution_count": 9,
   "metadata": {},
   "outputs": [],
   "source": [
    "formatting_cities(\"data/cities.csv\",[\"land_area\",\"Population\", \"migrants\", \"Yearly Change\", \"net_change\", \"urban_pop\", \"world_share\"])"
   ]
  },
  {
   "cell_type": "markdown",
   "metadata": {},
   "source": [
    "## 2.2 Make the year column (tourism.csv) integer and remove the last column in the file then join with data (excute it only once)"
   ]
  },
  {
   "cell_type": "code",
   "execution_count": null,
   "metadata": {},
   "outputs": [],
   "source": [
    "# in tourism.csv make the year column integer and remove the last column in the file\n",
    "df = pd.read_csv(\"data/tourism.csv\")\n",
    "df['Tourism_year'] = df['Tourism_year'].astype(int)\n",
    "df = df.drop(columns=['shareOfVisits'])\n",
    "df.to_csv(\"data/tourism.csv\", index=False)"
   ]
  },
  {
   "cell_type": "code",
   "execution_count": 27,
   "metadata": {},
   "outputs": [],
   "source": [
    "def tourism_join(files_names):\n",
    "\ttourism = pd.read_csv(\"data/tourism.csv\")\n",
    "\tfor file_name in files_names:\n",
    "\t\tdf = pd.read_csv(file_name)\n",
    "\t\t# add a column \"tourism\" by doing the left join between the df and the tourism.csv file on the colum \"Country\"\n",
    "\t\tdf = pd.merge(df, tourism, on=\"Country\", how=\"left\")\n",
    "\t\t#save the new df in the same file\n",
    "\t\tdf.to_csv(file_name, index=False)"
   ]
  },
  {
   "cell_type": "code",
   "execution_count": 28,
   "metadata": {},
   "outputs": [],
   "source": [
    "tourism_join(files_names[0:5])"
   ]
  },
  {
   "cell_type": "code",
   "execution_count": 29,
   "metadata": {},
   "outputs": [],
   "source": [
    "tourism_join(files_names[5:10])"
   ]
  },
  {
   "cell_type": "code",
   "execution_count": 30,
   "metadata": {},
   "outputs": [],
   "source": [
    "tourism_join(files_names[10:])"
   ]
  },
  {
   "cell_type": "markdown",
   "metadata": {},
   "source": [
    "## 2.3 Correct the distance from center value"
   ]
  },
  {
   "cell_type": "code",
   "execution_count": 16,
   "metadata": {},
   "outputs": [],
   "source": [
    "def correct_distance_columns(file_names):\n",
    "\tfor file_name in file_names:\n",
    "\t\tdf = pd.read_csv(file_name)\n",
    "\t\t#if distance is >30 and if it's int, devide it by 1000\n",
    "\t\tdf['Distance from center'] = df['Distance from center'].apply(lambda x: round(x/1000, ndigits=1) if x > 30 else x)\n",
    "\t\tdf.drop(columns=['Region Number', 'Continent Number'], inplace=True)\n",
    "\t\t# save the changes in the same file\n",
    "\t\tdf.to_csv(file_name, index=False)"
   ]
  },
  {
   "cell_type": "code",
   "execution_count": 17,
   "metadata": {},
   "outputs": [
    {
     "data": {
      "text/html": [
       "<div>\n",
       "<style scoped>\n",
       "    .dataframe tbody tr th:only-of-type {\n",
       "        vertical-align: middle;\n",
       "    }\n",
       "\n",
       "    .dataframe tbody tr th {\n",
       "        vertical-align: top;\n",
       "    }\n",
       "\n",
       "    .dataframe thead th {\n",
       "        text-align: right;\n",
       "    }\n",
       "</style>\n",
       "<table border=\"1\" class=\"dataframe\">\n",
       "  <thead>\n",
       "    <tr style=\"text-align: right;\">\n",
       "      <th></th>\n",
       "      <th>Unnamed: 0</th>\n",
       "      <th>Name</th>\n",
       "      <th>City</th>\n",
       "      <th>Country</th>\n",
       "      <th>Region</th>\n",
       "      <th>Continent</th>\n",
       "      <th>Location</th>\n",
       "      <th>Rating</th>\n",
       "      <th>Score</th>\n",
       "      <th>NbReviews</th>\n",
       "      <th>Distance from center</th>\n",
       "      <th>Stars</th>\n",
       "      <th>Url link</th>\n",
       "      <th>Staff_rating</th>\n",
       "      <th>Facilities_rating</th>\n",
       "      <th>Cleanliness_rating</th>\n",
       "      <th>Comfort_rating</th>\n",
       "      <th>Value_for_money_rating</th>\n",
       "      <th>Location_rating</th>\n",
       "    </tr>\n",
       "  </thead>\n",
       "  <tbody>\n",
       "    <tr>\n",
       "      <th>47</th>\n",
       "      <td>47</td>\n",
       "      <td>Landmark Mbezi Beach Resort</td>\n",
       "      <td>Dar es Salaam</td>\n",
       "      <td>Tanzania</td>\n",
       "      <td>Eastern Africa</td>\n",
       "      <td>Africa</td>\n",
       "      <td>Kunduchi, Dar es Salaam</td>\n",
       "      <td>Review score</td>\n",
       "      <td>6.8</td>\n",
       "      <td>865</td>\n",
       "      <td>15.6</td>\n",
       "      <td>4</td>\n",
       "      <td>https://www.booking.com/hotel/tz/landmark-mbez...</td>\n",
       "      <td>7.6</td>\n",
       "      <td>7.0</td>\n",
       "      <td>7.5</td>\n",
       "      <td>7.5</td>\n",
       "      <td>7.4</td>\n",
       "      <td>8.3</td>\n",
       "    </tr>\n",
       "    <tr>\n",
       "      <th>61</th>\n",
       "      <td>61</td>\n",
       "      <td>Palm villa</td>\n",
       "      <td>Harare</td>\n",
       "      <td>Zimbabwe</td>\n",
       "      <td>Eastern Africa</td>\n",
       "      <td>Africa</td>\n",
       "      <td>Harare</td>\n",
       "      <td>Good</td>\n",
       "      <td>7.7</td>\n",
       "      <td>106</td>\n",
       "      <td>15.5</td>\n",
       "      <td>0</td>\n",
       "      <td>https://www.booking.com/hotel/zw/palm-villa.ht...</td>\n",
       "      <td>8.7</td>\n",
       "      <td>8.2</td>\n",
       "      <td>8.7</td>\n",
       "      <td>8.6</td>\n",
       "      <td>8.3</td>\n",
       "      <td>8.7</td>\n",
       "    </tr>\n",
       "    <tr>\n",
       "      <th>44</th>\n",
       "      <td>44</td>\n",
       "      <td>Karen Gables</td>\n",
       "      <td>Nairobi</td>\n",
       "      <td>Kenya</td>\n",
       "      <td>Eastern Africa</td>\n",
       "      <td>Africa</td>\n",
       "      <td>Nairobi</td>\n",
       "      <td>Wonderful</td>\n",
       "      <td>9.3</td>\n",
       "      <td>104</td>\n",
       "      <td>14.4</td>\n",
       "      <td>0</td>\n",
       "      <td>https://www.booking.com/hotel/ke/karen-gables....</td>\n",
       "      <td>9.6</td>\n",
       "      <td>9.3</td>\n",
       "      <td>9.4</td>\n",
       "      <td>9.4</td>\n",
       "      <td>8.7</td>\n",
       "      <td>9.5</td>\n",
       "    </tr>\n",
       "    <tr>\n",
       "      <th>45</th>\n",
       "      <td>45</td>\n",
       "      <td>Kozi Suites Nairobi Airport</td>\n",
       "      <td>Nairobi</td>\n",
       "      <td>Kenya</td>\n",
       "      <td>Eastern Africa</td>\n",
       "      <td>Africa</td>\n",
       "      <td>Nairobi</td>\n",
       "      <td>Good</td>\n",
       "      <td>7.8</td>\n",
       "      <td>3,046</td>\n",
       "      <td>13.2</td>\n",
       "      <td>4</td>\n",
       "      <td>https://www.booking.com/hotel/ke/kozi-suites.h...</td>\n",
       "      <td>8.7</td>\n",
       "      <td>8.0</td>\n",
       "      <td>8.4</td>\n",
       "      <td>8.4</td>\n",
       "      <td>8.7</td>\n",
       "      <td>7.8</td>\n",
       "    </tr>\n",
       "    <tr>\n",
       "      <th>26</th>\n",
       "      <td>26</td>\n",
       "      <td>Gletwyn Boutique Guesthouse</td>\n",
       "      <td>Harare</td>\n",
       "      <td>Zimbabwe</td>\n",
       "      <td>Eastern Africa</td>\n",
       "      <td>Africa</td>\n",
       "      <td>Harare</td>\n",
       "      <td>Very Good</td>\n",
       "      <td>8.2</td>\n",
       "      <td>45</td>\n",
       "      <td>12.9</td>\n",
       "      <td>4</td>\n",
       "      <td>https://www.booking.com/hotel/zw/gletwyn-bouti...</td>\n",
       "      <td>8.7</td>\n",
       "      <td>8.6</td>\n",
       "      <td>8.6</td>\n",
       "      <td>8.7</td>\n",
       "      <td>8.3</td>\n",
       "      <td>8.1</td>\n",
       "    </tr>\n",
       "  </tbody>\n",
       "</table>\n",
       "</div>"
      ],
      "text/plain": [
       "    Unnamed: 0                         Name           City   Country  \\\n",
       "47          47  Landmark Mbezi Beach Resort  Dar es Salaam  Tanzania   \n",
       "61          61                   Palm villa         Harare  Zimbabwe   \n",
       "44          44                 Karen Gables        Nairobi     Kenya   \n",
       "45          45  Kozi Suites Nairobi Airport        Nairobi     Kenya   \n",
       "26          26  Gletwyn Boutique Guesthouse         Harare  Zimbabwe   \n",
       "\n",
       "            Region Continent                 Location        Rating  Score  \\\n",
       "47  Eastern Africa    Africa  Kunduchi, Dar es Salaam  Review score    6.8   \n",
       "61  Eastern Africa    Africa                   Harare          Good    7.7   \n",
       "44  Eastern Africa    Africa                  Nairobi     Wonderful    9.3   \n",
       "45  Eastern Africa    Africa                  Nairobi          Good    7.8   \n",
       "26  Eastern Africa    Africa                   Harare     Very Good    8.2   \n",
       "\n",
       "   NbReviews  Distance from center  Stars  \\\n",
       "47       865                  15.6      4   \n",
       "61       106                  15.5      0   \n",
       "44       104                  14.4      0   \n",
       "45     3,046                  13.2      4   \n",
       "26        45                  12.9      4   \n",
       "\n",
       "                                             Url link  Staff_rating  \\\n",
       "47  https://www.booking.com/hotel/tz/landmark-mbez...           7.6   \n",
       "61  https://www.booking.com/hotel/zw/palm-villa.ht...           8.7   \n",
       "44  https://www.booking.com/hotel/ke/karen-gables....           9.6   \n",
       "45  https://www.booking.com/hotel/ke/kozi-suites.h...           8.7   \n",
       "26  https://www.booking.com/hotel/zw/gletwyn-bouti...           8.7   \n",
       "\n",
       "    Facilities_rating  Cleanliness_rating  Comfort_rating  \\\n",
       "47                7.0                 7.5             7.5   \n",
       "61                8.2                 8.7             8.6   \n",
       "44                9.3                 9.4             9.4   \n",
       "45                8.0                 8.4             8.4   \n",
       "26                8.6                 8.6             8.7   \n",
       "\n",
       "    Value_for_money_rating  Location_rating  \n",
       "47                     7.4              8.3  \n",
       "61                     8.3              8.7  \n",
       "44                     8.7              9.5  \n",
       "45                     8.7              7.8  \n",
       "26                     8.3              8.1  "
      ]
     },
     "metadata": {},
     "output_type": "display_data"
    }
   ],
   "source": [
    "correct_distance_columns(files_links_names)"
   ]
  },
  {
   "cell_type": "markdown",
   "metadata": {},
   "source": [
    "## 2.4 Remove null/none and duplicated values"
   ]
  },
  {
   "cell_type": "code",
   "execution_count": null,
   "metadata": {},
   "outputs": [],
   "source": [
    "import pandas as pd\n",
    "\n",
    "df = generate_global_df()\n",
    "display(df)\n",
    "df.to_csv(\"data/global.csv\", index=False)"
   ]
  },
  {
   "cell_type": "code",
   "execution_count": 5,
   "metadata": {},
   "outputs": [
    {
     "name": "stdout",
     "output_type": "stream",
     "text": [
      "The variables that have non values: ['urban_pop']\n",
      "The countries that have non values in urban_pop: ['Singapore']\n"
     ]
    }
   ],
   "source": [
    "print(\"The variables that have non values:\", list(df.columns[df.isnull().any()]))\n",
    "#display the variables that have non values:\n",
    "# output: ['urban_pop']\n",
    "print(\"The countries that have non values in urban_pop:\" ,list(df[df['urban_pop'].isnull()]['Country'].unique()))\n",
    "#display the countries that have non values in urban_pop:\n",
    "# output: ['urban_pop']"
   ]
  },
  {
   "cell_type": "code",
   "execution_count": 6,
   "metadata": {},
   "outputs": [],
   "source": [
    "df = pd.read_csv(\"data/hotels_South-Eastern Asia.csv\")\n",
    "df.loc[df['Country'] == 'Singapore', 'urban_pop'] = 100\n",
    "df.to_csv(\"data/hotels_South-Eastern Asia.csv\", index=False)"
   ]
  },
  {
   "cell_type": "code",
   "execution_count": 7,
   "metadata": {},
   "outputs": [
    {
     "name": "stdout",
     "output_type": "stream",
     "text": [
      "Count of lines that are duplicated:  Empty DataFrame\n",
      "Columns: [Name, Description, City, Country, Region, Continent, Region Number_x, Continent Number_x, Location, Rating, Score, NbReviews, Url link, Room Type, Guests nb, Price, Staff_rating, Facilities_rating, Cleanliness_rating, Comfort_rating, Value_for_money_rating, Location_rating, Breakfast, Cancellation, Region Number_y, Continent Number_y, Price per Square Meter to Buy Apartment Outside of Centre, Price per Square Meter to Buy Apartment in City Centre, International Primary School, Yearly for 1 Child, Preschool (or Kindergarten), Full Day, Private, Monthly for 1 Child, 1 Pair of Jeans (Levis 501 Or Similar), 1 Pair of Men Leather Business Shoes, 1 Pair of Nike Running Shoes (Mid-Range), 1 Summer Dress in a Chain Store (Zara, H&M, ...), Apples (1kg), Banana (1kg), Beef Round (1kg) (or Equivalent Back Leg Red Meat), Bottle of Wine (Mid-Range), Chicken Fillets (1kg), Cigarettes 20 Pack (Marlboro), Domestic Beer (0.5 liter bottle), Eggs (regular) (12), Imported Beer (0.33 liter bottle)_x, Lettuce (1 head), Loaf of Fresh White Bread (500g), Local Cheese (1kg), Milk (regular), (1 liter), Onion (1kg), Oranges (1kg), Potato (1kg), Rice (white), (1kg), Tomato (1kg), Water (1.5 liter bottle), Apartment (1 bedroom) Outside of Centre, Apartment (1 bedroom) in City Centre, Apartment (3 bedrooms) Outside of Centre, Apartment (3 bedrooms) in City Centre, Cappuccino (regular), Coke/Pepsi (0.33 liter bottle), Domestic Beer (0.5 liter draught), Imported Beer (0.33 liter bottle)_y, McMeal at McDonalds (or Equivalent Combo Meal), Meal for 2 People, Mid-range Restaurant, Three-course, Meal, Inexpensive Restaurant, Water (0.33 liter bottle), Average Monthly Net Salary (After Tax), Mortgage Interest Rate in Percentages (%), Yearly, for 20 Years Fixed-Rate, Cinema, International Release, 1 Seat, Fitness Club, Monthly Fee for 1 Adult, Tennis Court Rent (1 Hour on Weekend), Gasoline (1 liter), Monthly Pass (Regular Price), One-way Ticket (Local Transport), Taxi 1hour Waiting (Normal Tariff), Taxi 1km (Normal Tariff), Taxi Start (Normal Tariff), Toyota Corolla Sedan 1.6l 97kW Comfort (Or Equivalent New Car), Volkswagen Golf 1.4 90 KW Trendline (Or Equivalent New Car), Basic (Electricity, Heating, Cooling, Water, Garbage) for 85m2 Apartment, Internet (60 Mbps or More, Unlimited Data, Cable/ADSL), Mobile Phone Monthly Plan with Calls and 10GB+ Data, Population, Yearly Change, net_change, density, land_area, migrants, fert_rate, med_age, urban_pop, world_share, Tourism, Tourism_year]\n",
      "Index: []\n",
      "\n",
      "[0 rows x 93 columns]\n"
     ]
    }
   ],
   "source": [
    "print(\"Count of lines that are duplicated: \",df.loc[df.duplicated(subset=df.columns)])"
   ]
  },
  {
   "cell_type": "code",
   "execution_count": 8,
   "metadata": {},
   "outputs": [],
   "source": [
    "for file_name in files_names:\n",
    "\tregion = pd.read_csv(file_name)\n",
    "\tregion.drop_duplicates(inplace=True)\n",
    "\tregion.to_csv(file_name, index=False)"
   ]
  },
  {
   "cell_type": "code",
   "execution_count": 66,
   "metadata": {},
   "outputs": [
    {
     "name": "stdout",
     "output_type": "stream",
     "text": [
      "Lines that are duplicated:  Empty DataFrame\n",
      "Columns: [Name, Description, City, Country, Region, Continent, Region Number_x, Continent Number_x, Location, Rating, Score, NbReviews, Url link, Room Type, Guests nb, Price, Staff_rating, Facilities_rating, Cleanliness_rating, Comfort_rating, Value_for_money_rating, Location_rating, Breakfast, Cancellation, Region Number_y, Continent Number_y, Price per Square Meter to Buy Apartment Outside of Centre, Price per Square Meter to Buy Apartment in City Centre, International Primary School, Yearly for 1 Child, Preschool (or Kindergarten), Full Day, Private, Monthly for 1 Child, 1 Pair of Jeans (Levis 501 Or Similar), 1 Pair of Men Leather Business Shoes, 1 Pair of Nike Running Shoes (Mid-Range), 1 Summer Dress in a Chain Store (Zara, H&M, ...), Apples (1kg), Banana (1kg), Beef Round (1kg) (or Equivalent Back Leg Red Meat), Bottle of Wine (Mid-Range), Chicken Fillets (1kg), Cigarettes 20 Pack (Marlboro), Domestic Beer (0.5 liter bottle), Eggs (regular) (12), Imported Beer (0.33 liter bottle)_x, Lettuce (1 head), Loaf of Fresh White Bread (500g), Local Cheese (1kg), Milk (regular), (1 liter), Onion (1kg), Oranges (1kg), Potato (1kg), Rice (white), (1kg), Tomato (1kg), Water (1.5 liter bottle), Apartment (1 bedroom) Outside of Centre, Apartment (1 bedroom) in City Centre, Apartment (3 bedrooms) Outside of Centre, Apartment (3 bedrooms) in City Centre, Cappuccino (regular), Coke/Pepsi (0.33 liter bottle), Domestic Beer (0.5 liter draught), Imported Beer (0.33 liter bottle)_y, McMeal at McDonalds (or Equivalent Combo Meal), Meal for 2 People, Mid-range Restaurant, Three-course, Meal, Inexpensive Restaurant, Water (0.33 liter bottle), Average Monthly Net Salary (After Tax), Mortgage Interest Rate in Percentages (%), Yearly, for 20 Years Fixed-Rate, Cinema, International Release, 1 Seat, Fitness Club, Monthly Fee for 1 Adult, Tennis Court Rent (1 Hour on Weekend), Gasoline (1 liter), Monthly Pass (Regular Price), One-way Ticket (Local Transport), Taxi 1hour Waiting (Normal Tariff), Taxi 1km (Normal Tariff), Taxi Start (Normal Tariff), Toyota Corolla Sedan 1.6l 97kW Comfort (Or Equivalent New Car), Volkswagen Golf 1.4 90 KW Trendline (Or Equivalent New Car), Basic (Electricity, Heating, Cooling, Water, Garbage) for 85m2 Apartment, Internet (60 Mbps or More, Unlimited Data, Cable/ADSL), Mobile Phone Monthly Plan with Calls and 10GB+ Data, Population, Yearly Change, net_change, density, land_area, migrants, fert_rate, med_age, urban_pop, world_share, Tourism, Tourism_year]\n",
      "Index: []\n",
      "\n",
      "[0 rows x 93 columns]\n"
     ]
    }
   ],
   "source": [
    "print(\"Lines that are duplicated: \",df.loc[df.duplicated(subset=df.columns)])"
   ]
  },
  {
   "cell_type": "markdown",
   "metadata": {},
   "source": [
    "## 2.5 Create and clean worldcities.csv"
   ]
  },
  {
   "cell_type": "code",
   "execution_count": null,
   "metadata": {},
   "outputs": [],
   "source": [
    "cities = pd.read_csv('../data/worldcities.csv')\n",
    "\n",
    "print(cities.columns)"
   ]
  },
  {
   "cell_type": "code",
   "execution_count": null,
   "metadata": {},
   "outputs": [],
   "source": [
    "cities.drop(columns=['iso2', 'iso3','country', 'admin_name', 'id'],inplace=True)"
   ]
  },
  {
   "cell_type": "code",
   "execution_count": null,
   "metadata": {},
   "outputs": [],
   "source": [
    "# change a column name\n",
    "cities.rename(columns={'population': 'City_Population'}, inplace=True)\n",
    "cities.rename(columns={'lat': 'City_lat'}, inplace=True)\n",
    "cities.rename(columns={'lng': 'City_lng'}, inplace=True) \n",
    "cities.rename(columns={'capital': 'Capital_Type'}, inplace=True) "
   ]
  },
  {
   "cell_type": "code",
   "execution_count": null,
   "metadata": {},
   "outputs": [],
   "source": [
    "cities['Capital_Type'].fillna('Not a Capital', inplace=True)"
   ]
  },
  {
   "cell_type": "code",
   "execution_count": null,
   "metadata": {},
   "outputs": [],
   "source": [
    "cities.to_csv('../data/worldcities.csv', index=False)"
   ]
  },
  {
   "cell_type": "markdown",
   "metadata": {},
   "source": [
    "## 2.6 merge the file worldcities with cities"
   ]
  },
  {
   "cell_type": "code",
   "execution_count": 1,
   "metadata": {},
   "outputs": [],
   "source": [
    "import pandas as pd\n",
    "df_cities =pd.read_csv(\"data/cities.csv\")\n",
    "df_worldcities = pd.read_csv(\"data/worldcities.csv\")\n",
    "\n",
    "# merge the cities.csv with the columns of worldcities.csv on the columns \"City\" and \"city_ascii\"\n",
    "df_cities = pd.merge(df_cities, df_worldcities, left_on=[\"City\"],right_on=[\"city_ascii\"], how=\"left\")"
   ]
  },
  {
   "cell_type": "code",
   "execution_count": 2,
   "metadata": {},
   "outputs": [
    {
     "data": {
      "text/html": [
       "<div>\n",
       "<style scoped>\n",
       "    .dataframe tbody tr th:only-of-type {\n",
       "        vertical-align: middle;\n",
       "    }\n",
       "\n",
       "    .dataframe tbody tr th {\n",
       "        vertical-align: top;\n",
       "    }\n",
       "\n",
       "    .dataframe thead th {\n",
       "        text-align: right;\n",
       "    }\n",
       "</style>\n",
       "<table border=\"1\" class=\"dataframe\">\n",
       "  <thead>\n",
       "    <tr style=\"text-align: right;\">\n",
       "      <th></th>\n",
       "      <th>City</th>\n",
       "      <th>Country</th>\n",
       "      <th>Region</th>\n",
       "      <th>Continent</th>\n",
       "      <th>Region Number</th>\n",
       "      <th>Continent Number</th>\n",
       "      <th>Price per Square Meter to Buy Apartment Outside of Centre</th>\n",
       "      <th>Price per Square Meter to Buy Apartment in City Centre</th>\n",
       "      <th>International Primary School, Yearly for 1 Child</th>\n",
       "      <th>Preschool (or Kindergarten), Full Day, Private, Monthly for 1 Child</th>\n",
       "      <th>...</th>\n",
       "      <th>urban_pop</th>\n",
       "      <th>world_share</th>\n",
       "      <th>Tourism</th>\n",
       "      <th>Tourism_year</th>\n",
       "      <th>city</th>\n",
       "      <th>city_ascii</th>\n",
       "      <th>City_lat</th>\n",
       "      <th>City_lng</th>\n",
       "      <th>Capital_Type</th>\n",
       "      <th>City_Population</th>\n",
       "    </tr>\n",
       "  </thead>\n",
       "  <tbody>\n",
       "    <tr>\n",
       "      <th>0</th>\n",
       "      <td>Harare</td>\n",
       "      <td>Zimbabwe</td>\n",
       "      <td>Eastern Africa</td>\n",
       "      <td>Africa</td>\n",
       "      <td>14</td>\n",
       "      <td>2</td>\n",
       "      <td>NaN</td>\n",
       "      <td>1290.35</td>\n",
       "      <td>6802.31</td>\n",
       "      <td>261.54</td>\n",
       "      <td>...</td>\n",
       "      <td>37.0</td>\n",
       "      <td>0.21</td>\n",
       "      <td>639000</td>\n",
       "      <td>2020</td>\n",
       "      <td>Harare</td>\n",
       "      <td>Harare</td>\n",
       "      <td>-17.8292</td>\n",
       "      <td>31.0522</td>\n",
       "      <td>primary</td>\n",
       "      <td>2150000.0</td>\n",
       "    </tr>\n",
       "    <tr>\n",
       "      <th>1</th>\n",
       "      <td>Dar es Salaam</td>\n",
       "      <td>Tanzania</td>\n",
       "      <td>Eastern Africa</td>\n",
       "      <td>Africa</td>\n",
       "      <td>14</td>\n",
       "      <td>2</td>\n",
       "      <td>NaN</td>\n",
       "      <td>NaN</td>\n",
       "      <td>NaN</td>\n",
       "      <td>NaN</td>\n",
       "      <td>...</td>\n",
       "      <td>38.0</td>\n",
       "      <td>0.84</td>\n",
       "      <td>1527000</td>\n",
       "      <td>2019</td>\n",
       "      <td>Dar es Salaam</td>\n",
       "      <td>Dar es Salaam</td>\n",
       "      <td>-6.8161</td>\n",
       "      <td>39.2803</td>\n",
       "      <td>admin</td>\n",
       "      <td>7962000.0</td>\n",
       "    </tr>\n",
       "    <tr>\n",
       "      <th>2</th>\n",
       "      <td>Addis Ababa</td>\n",
       "      <td>Ethiopia</td>\n",
       "      <td>Eastern Africa</td>\n",
       "      <td>Africa</td>\n",
       "      <td>14</td>\n",
       "      <td>2</td>\n",
       "      <td>1487.80</td>\n",
       "      <td>2078.02</td>\n",
       "      <td>NaN</td>\n",
       "      <td>78.09</td>\n",
       "      <td>...</td>\n",
       "      <td>22.0</td>\n",
       "      <td>1.57</td>\n",
       "      <td>518000</td>\n",
       "      <td>2020</td>\n",
       "      <td>Addis Ababa</td>\n",
       "      <td>Addis Ababa</td>\n",
       "      <td>9.0300</td>\n",
       "      <td>38.7400</td>\n",
       "      <td>primary</td>\n",
       "      <td>3041002.0</td>\n",
       "    </tr>\n",
       "    <tr>\n",
       "      <th>3</th>\n",
       "      <td>Nairobi</td>\n",
       "      <td>Kenya</td>\n",
       "      <td>Eastern Africa</td>\n",
       "      <td>Africa</td>\n",
       "      <td>14</td>\n",
       "      <td>2</td>\n",
       "      <td>687.37</td>\n",
       "      <td>1175.44</td>\n",
       "      <td>6966.34</td>\n",
       "      <td>150.28</td>\n",
       "      <td>...</td>\n",
       "      <td>31.0</td>\n",
       "      <td>0.68</td>\n",
       "      <td>2049000</td>\n",
       "      <td>2019</td>\n",
       "      <td>Nairobi</td>\n",
       "      <td>Nairobi</td>\n",
       "      <td>-1.2864</td>\n",
       "      <td>36.8172</td>\n",
       "      <td>primary</td>\n",
       "      <td>5545000.0</td>\n",
       "    </tr>\n",
       "    <tr>\n",
       "      <th>4</th>\n",
       "      <td>Marrakech</td>\n",
       "      <td>Morocco</td>\n",
       "      <td>Northern Africa</td>\n",
       "      <td>Africa</td>\n",
       "      <td>15</td>\n",
       "      <td>2</td>\n",
       "      <td>NaN</td>\n",
       "      <td>NaN</td>\n",
       "      <td>NaN</td>\n",
       "      <td>NaN</td>\n",
       "      <td>...</td>\n",
       "      <td>66.0</td>\n",
       "      <td>0.47</td>\n",
       "      <td>2802000</td>\n",
       "      <td>2020</td>\n",
       "      <td>Marrakech</td>\n",
       "      <td>Marrakech</td>\n",
       "      <td>31.6300</td>\n",
       "      <td>-8.0089</td>\n",
       "      <td>admin</td>\n",
       "      <td>966987.0</td>\n",
       "    </tr>\n",
       "  </tbody>\n",
       "</table>\n",
       "<p>5 rows × 79 columns</p>\n",
       "</div>"
      ],
      "text/plain": [
       "            City   Country           Region Continent  Region Number  \\\n",
       "0         Harare  Zimbabwe   Eastern Africa    Africa             14   \n",
       "1  Dar es Salaam  Tanzania   Eastern Africa    Africa             14   \n",
       "2    Addis Ababa  Ethiopia   Eastern Africa    Africa             14   \n",
       "3        Nairobi     Kenya   Eastern Africa    Africa             14   \n",
       "4      Marrakech   Morocco  Northern Africa    Africa             15   \n",
       "\n",
       "   Continent Number  \\\n",
       "0                 2   \n",
       "1                 2   \n",
       "2                 2   \n",
       "3                 2   \n",
       "4                 2   \n",
       "\n",
       "   Price per Square Meter to Buy Apartment Outside of Centre  \\\n",
       "0                                                NaN           \n",
       "1                                                NaN           \n",
       "2                                            1487.80           \n",
       "3                                             687.37           \n",
       "4                                                NaN           \n",
       "\n",
       "   Price per Square Meter to Buy Apartment in City Centre  \\\n",
       "0                                            1290.35        \n",
       "1                                                NaN        \n",
       "2                                            2078.02        \n",
       "3                                            1175.44        \n",
       "4                                                NaN        \n",
       "\n",
       "   International Primary School, Yearly for 1 Child  \\\n",
       "0                                           6802.31   \n",
       "1                                               NaN   \n",
       "2                                               NaN   \n",
       "3                                           6966.34   \n",
       "4                                               NaN   \n",
       "\n",
       "   Preschool (or Kindergarten), Full Day, Private, Monthly for 1 Child  ...  \\\n",
       "0                                             261.54                    ...   \n",
       "1                                                NaN                    ...   \n",
       "2                                              78.09                    ...   \n",
       "3                                             150.28                    ...   \n",
       "4                                                NaN                    ...   \n",
       "\n",
       "   urban_pop  world_share  Tourism  Tourism_year           city  \\\n",
       "0       37.0         0.21   639000          2020         Harare   \n",
       "1       38.0         0.84  1527000          2019  Dar es Salaam   \n",
       "2       22.0         1.57   518000          2020    Addis Ababa   \n",
       "3       31.0         0.68  2049000          2019        Nairobi   \n",
       "4       66.0         0.47  2802000          2020      Marrakech   \n",
       "\n",
       "      city_ascii  City_lat  City_lng  Capital_Type  City_Population  \n",
       "0         Harare  -17.8292   31.0522       primary        2150000.0  \n",
       "1  Dar es Salaam   -6.8161   39.2803         admin        7962000.0  \n",
       "2    Addis Ababa    9.0300   38.7400       primary        3041002.0  \n",
       "3        Nairobi   -1.2864   36.8172       primary        5545000.0  \n",
       "4      Marrakech   31.6300   -8.0089         admin         966987.0  \n",
       "\n",
       "[5 rows x 79 columns]"
      ]
     },
     "execution_count": 2,
     "metadata": {},
     "output_type": "execute_result"
    }
   ],
   "source": [
    "df_cities.head()"
   ]
  },
  {
   "cell_type": "code",
   "execution_count": 4,
   "metadata": {},
   "outputs": [
    {
     "name": "stdout",
     "output_type": "stream",
     "text": [
      "Index(['City', 'Country', 'Region', 'Continent', 'Region Number',\n",
      "       'Continent Number',\n",
      "       'Price per Square Meter to Buy Apartment Outside of Centre',\n",
      "       'Price per Square Meter to Buy Apartment in City Centre',\n",
      "       'International Primary School, Yearly for 1 Child',\n",
      "       'Preschool (or Kindergarten), Full Day, Private, Monthly for 1 Child',\n",
      "       '1 Pair of Jeans (Levis 501 Or Similar)',\n",
      "       '1 Pair of Men Leather Business Shoes',\n",
      "       '1 Pair of Nike Running Shoes (Mid-Range)',\n",
      "       '1 Summer Dress in a Chain Store (Zara, H&M, ...)', 'Apples (1kg)',\n",
      "       'Banana (1kg)', 'Beef Round (1kg) (or Equivalent Back Leg Red Meat)',\n",
      "       'Bottle of Wine (Mid-Range)', 'Chicken Fillets (1kg)',\n",
      "       'Cigarettes 20 Pack (Marlboro)', 'Domestic Beer (0.5 liter bottle)',\n",
      "       'Eggs (regular) (12)', 'Imported Beer (0.33 liter bottle)_x',\n",
      "       'Lettuce (1 head)', 'Loaf of Fresh White Bread (500g)',\n",
      "       'Local Cheese (1kg)', 'Milk (regular), (1 liter)', 'Onion (1kg)',\n",
      "       'Oranges (1kg)', 'Potato (1kg)', 'Rice (white), (1kg)', 'Tomato (1kg)',\n",
      "       'Water (1.5 liter bottle)', 'Apartment (1 bedroom) Outside of Centre',\n",
      "       'Apartment (1 bedroom) in City Centre',\n",
      "       'Apartment (3 bedrooms) Outside of Centre',\n",
      "       'Apartment (3 bedrooms) in City Centre', 'Cappuccino (regular)',\n",
      "       'Coke/Pepsi (0.33 liter bottle)', 'Domestic Beer (0.5 liter draught)',\n",
      "       'Imported Beer (0.33 liter bottle)_y',\n",
      "       'McMeal at McDonalds (or Equivalent Combo Meal)',\n",
      "       'Meal for 2 People, Mid-range Restaurant, Three-course',\n",
      "       'Meal, Inexpensive Restaurant', 'Water (0.33 liter bottle)',\n",
      "       'Average Monthly Net Salary (After Tax)',\n",
      "       'Mortgage Interest Rate in Percentages (%), Yearly, for 20 Years Fixed-Rate',\n",
      "       'Cinema, International Release, 1 Seat',\n",
      "       'Fitness Club, Monthly Fee for 1 Adult',\n",
      "       'Tennis Court Rent (1 Hour on Weekend)', 'Gasoline (1 liter)',\n",
      "       'Monthly Pass (Regular Price)', 'One-way Ticket (Local Transport)',\n",
      "       'Taxi 1hour Waiting (Normal Tariff)', 'Taxi 1km (Normal Tariff)',\n",
      "       'Taxi Start (Normal Tariff)',\n",
      "       'Toyota Corolla Sedan 1.6l 97kW Comfort (Or Equivalent New Car)',\n",
      "       'Volkswagen Golf 1.4 90 KW Trendline (Or Equivalent New Car)',\n",
      "       'Basic (Electricity, Heating, Cooling, Water, Garbage) for 85m2 Apartment',\n",
      "       'Internet (60 Mbps or More, Unlimited Data, Cable/ADSL)',\n",
      "       'Mobile Phone Monthly Plan with Calls and 10GB+ Data', 'Population',\n",
      "       'Yearly Change', 'net_change', 'density', 'land_area', 'migrants',\n",
      "       'fert_rate', 'med_age', 'urban_pop', 'world_share', 'Tourism',\n",
      "       'Tourism_year', 'City_lat', 'City_lng', 'Capital_Type',\n",
      "       'City_Population'],\n",
      "      dtype='object')\n"
     ]
    }
   ],
   "source": [
    "df_cities.drop(columns=['city_ascii',\"city\"], inplace=True)\n",
    "print(df_cities.columns)"
   ]
  },
  {
   "cell_type": "code",
   "execution_count": null,
   "metadata": {},
   "outputs": [],
   "source": [
    "df_cities.to_csv(\"data/cities.csv\", index=False)"
   ]
  }
 ],
 "metadata": {
  "kernelspec": {
   "display_name": "Python 3",
   "language": "python",
   "name": "python3"
  },
  "language_info": {
   "codemirror_mode": {
    "name": "ipython",
    "version": 3
   },
   "file_extension": ".py",
   "mimetype": "text/x-python",
   "name": "python",
   "nbconvert_exporter": "python",
   "pygments_lexer": "ipython3",
   "version": "3.11.5"
  }
 },
 "nbformat": 4,
 "nbformat_minor": 2
}
